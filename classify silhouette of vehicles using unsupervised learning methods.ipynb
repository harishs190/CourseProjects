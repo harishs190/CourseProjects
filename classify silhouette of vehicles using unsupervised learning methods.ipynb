{
 "cells": [
  {
   "cell_type": "markdown",
   "metadata": {},
   "source": [
    "# Classify a given silhouette as one of three types of vehicle"
   ]
  },
  {
   "cell_type": "markdown",
   "metadata": {},
   "source": [
    "Data Description:\n",
    "    \n",
    "The data contains features extracted from the silhouette of vehicles in different angles. \n",
    "\n",
    "Four \"Corgie\" model vehicles were used for the experiment: a double decker bus, Cheverolet van,\n",
    "    \n",
    "Saab 9000 and an Opel Manta 400 cars. This particular combination of vehicles was chosen with the \n",
    "\n",
    "expectation that the bus, van and either one of the cars would be readily distinguishable, but it \n",
    "\n",
    "would be more difficult to distinguish between the cars\n",
    "\n",
    "The purpose is to classify a given silhouette as one of three types of vehicle, using a set of features \n",
    "\n",
    "extracted from the silhouette. The vehicle may be viewed from one of many different angles.\n",
    "\n",
    "Attribute Information:\n",
    "\n",
    "All the features are geometric features extracted from the silhouette.\n",
    "\n",
    "All are numeric in nature\n",
    "\n",
    "Objective:\n",
    "    \n",
    "Apply dimensionality reduction technique – PCA \n",
    "Use ML algorithm with and without PCA\n",
    "apply clustering Algorithm"
   ]
  },
  {
   "cell_type": "code",
   "execution_count": 1,
   "metadata": {},
   "outputs": [],
   "source": [
    "#load  libraries"
   ]
  },
  {
   "cell_type": "code",
   "execution_count": 84,
   "metadata": {},
   "outputs": [],
   "source": [
    "import numpy as np\n",
    "import pandas as pd\n",
    "import matplotlib.pyplot as plt\n",
    "import seaborn as sns\n",
    "%matplotlib inline\n",
    "sns.set(color_codes=True)"
   ]
  },
  {
   "cell_type": "code",
   "execution_count": 85,
   "metadata": {},
   "outputs": [],
   "source": [
    "#load dataset\n",
    "df=pd.read_csv(\"vehicle.csv\")"
   ]
  },
  {
   "cell_type": "code",
   "execution_count": 86,
   "metadata": {},
   "outputs": [],
   "source": [
    "df1=df.copy()"
   ]
  },
  {
   "cell_type": "markdown",
   "metadata": {},
   "source": [
    "# ANALYSIS OF THE DATASET"
   ]
  },
  {
   "cell_type": "code",
   "execution_count": 87,
   "metadata": {
    "scrolled": true
   },
   "outputs": [
    {
     "data": {
      "text/html": [
       "<div>\n",
       "<style scoped>\n",
       "    .dataframe tbody tr th:only-of-type {\n",
       "        vertical-align: middle;\n",
       "    }\n",
       "\n",
       "    .dataframe tbody tr th {\n",
       "        vertical-align: top;\n",
       "    }\n",
       "\n",
       "    .dataframe thead th {\n",
       "        text-align: right;\n",
       "    }\n",
       "</style>\n",
       "<table border=\"1\" class=\"dataframe\">\n",
       "  <thead>\n",
       "    <tr style=\"text-align: right;\">\n",
       "      <th></th>\n",
       "      <th>compactness</th>\n",
       "      <th>circularity</th>\n",
       "      <th>distance_circularity</th>\n",
       "      <th>radius_ratio</th>\n",
       "      <th>pr.axis_aspect_ratio</th>\n",
       "      <th>max.length_aspect_ratio</th>\n",
       "      <th>scatter_ratio</th>\n",
       "      <th>elongatedness</th>\n",
       "      <th>pr.axis_rectangularity</th>\n",
       "      <th>max.length_rectangularity</th>\n",
       "      <th>scaled_variance</th>\n",
       "      <th>scaled_variance.1</th>\n",
       "      <th>scaled_radius_of_gyration</th>\n",
       "      <th>scaled_radius_of_gyration.1</th>\n",
       "      <th>skewness_about</th>\n",
       "      <th>skewness_about.1</th>\n",
       "      <th>skewness_about.2</th>\n",
       "      <th>hollows_ratio</th>\n",
       "      <th>class</th>\n",
       "    </tr>\n",
       "  </thead>\n",
       "  <tbody>\n",
       "    <tr>\n",
       "      <th>0</th>\n",
       "      <td>95</td>\n",
       "      <td>48.0</td>\n",
       "      <td>83.0</td>\n",
       "      <td>178.0</td>\n",
       "      <td>72.0</td>\n",
       "      <td>10</td>\n",
       "      <td>162.0</td>\n",
       "      <td>42.0</td>\n",
       "      <td>20.0</td>\n",
       "      <td>159</td>\n",
       "      <td>176.0</td>\n",
       "      <td>379.0</td>\n",
       "      <td>184.0</td>\n",
       "      <td>70.0</td>\n",
       "      <td>6.0</td>\n",
       "      <td>16.0</td>\n",
       "      <td>187.0</td>\n",
       "      <td>197</td>\n",
       "      <td>van</td>\n",
       "    </tr>\n",
       "    <tr>\n",
       "      <th>1</th>\n",
       "      <td>91</td>\n",
       "      <td>41.0</td>\n",
       "      <td>84.0</td>\n",
       "      <td>141.0</td>\n",
       "      <td>57.0</td>\n",
       "      <td>9</td>\n",
       "      <td>149.0</td>\n",
       "      <td>45.0</td>\n",
       "      <td>19.0</td>\n",
       "      <td>143</td>\n",
       "      <td>170.0</td>\n",
       "      <td>330.0</td>\n",
       "      <td>158.0</td>\n",
       "      <td>72.0</td>\n",
       "      <td>9.0</td>\n",
       "      <td>14.0</td>\n",
       "      <td>189.0</td>\n",
       "      <td>199</td>\n",
       "      <td>van</td>\n",
       "    </tr>\n",
       "    <tr>\n",
       "      <th>2</th>\n",
       "      <td>104</td>\n",
       "      <td>50.0</td>\n",
       "      <td>106.0</td>\n",
       "      <td>209.0</td>\n",
       "      <td>66.0</td>\n",
       "      <td>10</td>\n",
       "      <td>207.0</td>\n",
       "      <td>32.0</td>\n",
       "      <td>23.0</td>\n",
       "      <td>158</td>\n",
       "      <td>223.0</td>\n",
       "      <td>635.0</td>\n",
       "      <td>220.0</td>\n",
       "      <td>73.0</td>\n",
       "      <td>14.0</td>\n",
       "      <td>9.0</td>\n",
       "      <td>188.0</td>\n",
       "      <td>196</td>\n",
       "      <td>car</td>\n",
       "    </tr>\n",
       "    <tr>\n",
       "      <th>3</th>\n",
       "      <td>93</td>\n",
       "      <td>41.0</td>\n",
       "      <td>82.0</td>\n",
       "      <td>159.0</td>\n",
       "      <td>63.0</td>\n",
       "      <td>9</td>\n",
       "      <td>144.0</td>\n",
       "      <td>46.0</td>\n",
       "      <td>19.0</td>\n",
       "      <td>143</td>\n",
       "      <td>160.0</td>\n",
       "      <td>309.0</td>\n",
       "      <td>127.0</td>\n",
       "      <td>63.0</td>\n",
       "      <td>6.0</td>\n",
       "      <td>10.0</td>\n",
       "      <td>199.0</td>\n",
       "      <td>207</td>\n",
       "      <td>van</td>\n",
       "    </tr>\n",
       "    <tr>\n",
       "      <th>4</th>\n",
       "      <td>85</td>\n",
       "      <td>44.0</td>\n",
       "      <td>70.0</td>\n",
       "      <td>205.0</td>\n",
       "      <td>103.0</td>\n",
       "      <td>52</td>\n",
       "      <td>149.0</td>\n",
       "      <td>45.0</td>\n",
       "      <td>19.0</td>\n",
       "      <td>144</td>\n",
       "      <td>241.0</td>\n",
       "      <td>325.0</td>\n",
       "      <td>188.0</td>\n",
       "      <td>127.0</td>\n",
       "      <td>9.0</td>\n",
       "      <td>11.0</td>\n",
       "      <td>180.0</td>\n",
       "      <td>183</td>\n",
       "      <td>bus</td>\n",
       "    </tr>\n",
       "  </tbody>\n",
       "</table>\n",
       "</div>"
      ],
      "text/plain": [
       "   compactness  circularity  distance_circularity  radius_ratio  \\\n",
       "0           95         48.0                  83.0         178.0   \n",
       "1           91         41.0                  84.0         141.0   \n",
       "2          104         50.0                 106.0         209.0   \n",
       "3           93         41.0                  82.0         159.0   \n",
       "4           85         44.0                  70.0         205.0   \n",
       "\n",
       "   pr.axis_aspect_ratio  max.length_aspect_ratio  scatter_ratio  \\\n",
       "0                  72.0                       10          162.0   \n",
       "1                  57.0                        9          149.0   \n",
       "2                  66.0                       10          207.0   \n",
       "3                  63.0                        9          144.0   \n",
       "4                 103.0                       52          149.0   \n",
       "\n",
       "   elongatedness  pr.axis_rectangularity  max.length_rectangularity  \\\n",
       "0           42.0                    20.0                        159   \n",
       "1           45.0                    19.0                        143   \n",
       "2           32.0                    23.0                        158   \n",
       "3           46.0                    19.0                        143   \n",
       "4           45.0                    19.0                        144   \n",
       "\n",
       "   scaled_variance  scaled_variance.1  scaled_radius_of_gyration  \\\n",
       "0            176.0              379.0                      184.0   \n",
       "1            170.0              330.0                      158.0   \n",
       "2            223.0              635.0                      220.0   \n",
       "3            160.0              309.0                      127.0   \n",
       "4            241.0              325.0                      188.0   \n",
       "\n",
       "   scaled_radius_of_gyration.1  skewness_about  skewness_about.1  \\\n",
       "0                         70.0             6.0              16.0   \n",
       "1                         72.0             9.0              14.0   \n",
       "2                         73.0            14.0               9.0   \n",
       "3                         63.0             6.0              10.0   \n",
       "4                        127.0             9.0              11.0   \n",
       "\n",
       "   skewness_about.2  hollows_ratio class  \n",
       "0             187.0            197   van  \n",
       "1             189.0            199   van  \n",
       "2             188.0            196   car  \n",
       "3             199.0            207   van  \n",
       "4             180.0            183   bus  "
      ]
     },
     "execution_count": 87,
     "metadata": {},
     "output_type": "execute_result"
    }
   ],
   "source": [
    "df1.head()"
   ]
  },
  {
   "cell_type": "code",
   "execution_count": 88,
   "metadata": {},
   "outputs": [
    {
     "name": "stdout",
     "output_type": "stream",
     "text": [
      "<class 'pandas.core.frame.DataFrame'>\n",
      "RangeIndex: 846 entries, 0 to 845\n",
      "Data columns (total 19 columns):\n",
      " #   Column                       Non-Null Count  Dtype  \n",
      "---  ------                       --------------  -----  \n",
      " 0   compactness                  846 non-null    int64  \n",
      " 1   circularity                  841 non-null    float64\n",
      " 2   distance_circularity         842 non-null    float64\n",
      " 3   radius_ratio                 840 non-null    float64\n",
      " 4   pr.axis_aspect_ratio         844 non-null    float64\n",
      " 5   max.length_aspect_ratio      846 non-null    int64  \n",
      " 6   scatter_ratio                845 non-null    float64\n",
      " 7   elongatedness                845 non-null    float64\n",
      " 8   pr.axis_rectangularity       843 non-null    float64\n",
      " 9   max.length_rectangularity    846 non-null    int64  \n",
      " 10  scaled_variance              843 non-null    float64\n",
      " 11  scaled_variance.1            844 non-null    float64\n",
      " 12  scaled_radius_of_gyration    844 non-null    float64\n",
      " 13  scaled_radius_of_gyration.1  842 non-null    float64\n",
      " 14  skewness_about               840 non-null    float64\n",
      " 15  skewness_about.1             845 non-null    float64\n",
      " 16  skewness_about.2             845 non-null    float64\n",
      " 17  hollows_ratio                846 non-null    int64  \n",
      " 18  class                        846 non-null    object \n",
      "dtypes: float64(14), int64(4), object(1)\n",
      "memory usage: 125.7+ KB\n"
     ]
    }
   ],
   "source": [
    "df1.info()"
   ]
  },
  {
   "cell_type": "code",
   "execution_count": null,
   "metadata": {},
   "outputs": [],
   "source": []
  },
  {
   "cell_type": "code",
   "execution_count": 89,
   "metadata": {},
   "outputs": [
    {
     "data": {
      "text/html": [
       "<div>\n",
       "<style scoped>\n",
       "    .dataframe tbody tr th:only-of-type {\n",
       "        vertical-align: middle;\n",
       "    }\n",
       "\n",
       "    .dataframe tbody tr th {\n",
       "        vertical-align: top;\n",
       "    }\n",
       "\n",
       "    .dataframe thead th {\n",
       "        text-align: right;\n",
       "    }\n",
       "</style>\n",
       "<table border=\"1\" class=\"dataframe\">\n",
       "  <thead>\n",
       "    <tr style=\"text-align: right;\">\n",
       "      <th></th>\n",
       "      <th>count</th>\n",
       "      <th>mean</th>\n",
       "      <th>std</th>\n",
       "      <th>min</th>\n",
       "      <th>25%</th>\n",
       "      <th>50%</th>\n",
       "      <th>75%</th>\n",
       "      <th>max</th>\n",
       "    </tr>\n",
       "  </thead>\n",
       "  <tbody>\n",
       "    <tr>\n",
       "      <th>compactness</th>\n",
       "      <td>846.0</td>\n",
       "      <td>93.678487</td>\n",
       "      <td>8.234474</td>\n",
       "      <td>73.0</td>\n",
       "      <td>87.00</td>\n",
       "      <td>93.0</td>\n",
       "      <td>100.0</td>\n",
       "      <td>119.0</td>\n",
       "    </tr>\n",
       "    <tr>\n",
       "      <th>circularity</th>\n",
       "      <td>841.0</td>\n",
       "      <td>44.828775</td>\n",
       "      <td>6.152172</td>\n",
       "      <td>33.0</td>\n",
       "      <td>40.00</td>\n",
       "      <td>44.0</td>\n",
       "      <td>49.0</td>\n",
       "      <td>59.0</td>\n",
       "    </tr>\n",
       "    <tr>\n",
       "      <th>distance_circularity</th>\n",
       "      <td>842.0</td>\n",
       "      <td>82.110451</td>\n",
       "      <td>15.778292</td>\n",
       "      <td>40.0</td>\n",
       "      <td>70.00</td>\n",
       "      <td>80.0</td>\n",
       "      <td>98.0</td>\n",
       "      <td>112.0</td>\n",
       "    </tr>\n",
       "    <tr>\n",
       "      <th>radius_ratio</th>\n",
       "      <td>840.0</td>\n",
       "      <td>168.888095</td>\n",
       "      <td>33.520198</td>\n",
       "      <td>104.0</td>\n",
       "      <td>141.00</td>\n",
       "      <td>167.0</td>\n",
       "      <td>195.0</td>\n",
       "      <td>333.0</td>\n",
       "    </tr>\n",
       "    <tr>\n",
       "      <th>pr.axis_aspect_ratio</th>\n",
       "      <td>844.0</td>\n",
       "      <td>61.678910</td>\n",
       "      <td>7.891463</td>\n",
       "      <td>47.0</td>\n",
       "      <td>57.00</td>\n",
       "      <td>61.0</td>\n",
       "      <td>65.0</td>\n",
       "      <td>138.0</td>\n",
       "    </tr>\n",
       "    <tr>\n",
       "      <th>max.length_aspect_ratio</th>\n",
       "      <td>846.0</td>\n",
       "      <td>8.567376</td>\n",
       "      <td>4.601217</td>\n",
       "      <td>2.0</td>\n",
       "      <td>7.00</td>\n",
       "      <td>8.0</td>\n",
       "      <td>10.0</td>\n",
       "      <td>55.0</td>\n",
       "    </tr>\n",
       "    <tr>\n",
       "      <th>scatter_ratio</th>\n",
       "      <td>845.0</td>\n",
       "      <td>168.901775</td>\n",
       "      <td>33.214848</td>\n",
       "      <td>112.0</td>\n",
       "      <td>147.00</td>\n",
       "      <td>157.0</td>\n",
       "      <td>198.0</td>\n",
       "      <td>265.0</td>\n",
       "    </tr>\n",
       "    <tr>\n",
       "      <th>elongatedness</th>\n",
       "      <td>845.0</td>\n",
       "      <td>40.933728</td>\n",
       "      <td>7.816186</td>\n",
       "      <td>26.0</td>\n",
       "      <td>33.00</td>\n",
       "      <td>43.0</td>\n",
       "      <td>46.0</td>\n",
       "      <td>61.0</td>\n",
       "    </tr>\n",
       "    <tr>\n",
       "      <th>pr.axis_rectangularity</th>\n",
       "      <td>843.0</td>\n",
       "      <td>20.582444</td>\n",
       "      <td>2.592933</td>\n",
       "      <td>17.0</td>\n",
       "      <td>19.00</td>\n",
       "      <td>20.0</td>\n",
       "      <td>23.0</td>\n",
       "      <td>29.0</td>\n",
       "    </tr>\n",
       "    <tr>\n",
       "      <th>max.length_rectangularity</th>\n",
       "      <td>846.0</td>\n",
       "      <td>147.998818</td>\n",
       "      <td>14.515652</td>\n",
       "      <td>118.0</td>\n",
       "      <td>137.00</td>\n",
       "      <td>146.0</td>\n",
       "      <td>159.0</td>\n",
       "      <td>188.0</td>\n",
       "    </tr>\n",
       "    <tr>\n",
       "      <th>scaled_variance</th>\n",
       "      <td>843.0</td>\n",
       "      <td>188.631079</td>\n",
       "      <td>31.411004</td>\n",
       "      <td>130.0</td>\n",
       "      <td>167.00</td>\n",
       "      <td>179.0</td>\n",
       "      <td>217.0</td>\n",
       "      <td>320.0</td>\n",
       "    </tr>\n",
       "    <tr>\n",
       "      <th>scaled_variance.1</th>\n",
       "      <td>844.0</td>\n",
       "      <td>439.494076</td>\n",
       "      <td>176.666903</td>\n",
       "      <td>184.0</td>\n",
       "      <td>318.00</td>\n",
       "      <td>363.5</td>\n",
       "      <td>587.0</td>\n",
       "      <td>1018.0</td>\n",
       "    </tr>\n",
       "    <tr>\n",
       "      <th>scaled_radius_of_gyration</th>\n",
       "      <td>844.0</td>\n",
       "      <td>174.709716</td>\n",
       "      <td>32.584808</td>\n",
       "      <td>109.0</td>\n",
       "      <td>149.00</td>\n",
       "      <td>173.5</td>\n",
       "      <td>198.0</td>\n",
       "      <td>268.0</td>\n",
       "    </tr>\n",
       "    <tr>\n",
       "      <th>scaled_radius_of_gyration.1</th>\n",
       "      <td>842.0</td>\n",
       "      <td>72.447743</td>\n",
       "      <td>7.486190</td>\n",
       "      <td>59.0</td>\n",
       "      <td>67.00</td>\n",
       "      <td>71.5</td>\n",
       "      <td>75.0</td>\n",
       "      <td>135.0</td>\n",
       "    </tr>\n",
       "    <tr>\n",
       "      <th>skewness_about</th>\n",
       "      <td>840.0</td>\n",
       "      <td>6.364286</td>\n",
       "      <td>4.920649</td>\n",
       "      <td>0.0</td>\n",
       "      <td>2.00</td>\n",
       "      <td>6.0</td>\n",
       "      <td>9.0</td>\n",
       "      <td>22.0</td>\n",
       "    </tr>\n",
       "    <tr>\n",
       "      <th>skewness_about.1</th>\n",
       "      <td>845.0</td>\n",
       "      <td>12.602367</td>\n",
       "      <td>8.936081</td>\n",
       "      <td>0.0</td>\n",
       "      <td>5.00</td>\n",
       "      <td>11.0</td>\n",
       "      <td>19.0</td>\n",
       "      <td>41.0</td>\n",
       "    </tr>\n",
       "    <tr>\n",
       "      <th>skewness_about.2</th>\n",
       "      <td>845.0</td>\n",
       "      <td>188.919527</td>\n",
       "      <td>6.155809</td>\n",
       "      <td>176.0</td>\n",
       "      <td>184.00</td>\n",
       "      <td>188.0</td>\n",
       "      <td>193.0</td>\n",
       "      <td>206.0</td>\n",
       "    </tr>\n",
       "    <tr>\n",
       "      <th>hollows_ratio</th>\n",
       "      <td>846.0</td>\n",
       "      <td>195.632388</td>\n",
       "      <td>7.438797</td>\n",
       "      <td>181.0</td>\n",
       "      <td>190.25</td>\n",
       "      <td>197.0</td>\n",
       "      <td>201.0</td>\n",
       "      <td>211.0</td>\n",
       "    </tr>\n",
       "  </tbody>\n",
       "</table>\n",
       "</div>"
      ],
      "text/plain": [
       "                             count        mean         std    min     25%  \\\n",
       "compactness                  846.0   93.678487    8.234474   73.0   87.00   \n",
       "circularity                  841.0   44.828775    6.152172   33.0   40.00   \n",
       "distance_circularity         842.0   82.110451   15.778292   40.0   70.00   \n",
       "radius_ratio                 840.0  168.888095   33.520198  104.0  141.00   \n",
       "pr.axis_aspect_ratio         844.0   61.678910    7.891463   47.0   57.00   \n",
       "max.length_aspect_ratio      846.0    8.567376    4.601217    2.0    7.00   \n",
       "scatter_ratio                845.0  168.901775   33.214848  112.0  147.00   \n",
       "elongatedness                845.0   40.933728    7.816186   26.0   33.00   \n",
       "pr.axis_rectangularity       843.0   20.582444    2.592933   17.0   19.00   \n",
       "max.length_rectangularity    846.0  147.998818   14.515652  118.0  137.00   \n",
       "scaled_variance              843.0  188.631079   31.411004  130.0  167.00   \n",
       "scaled_variance.1            844.0  439.494076  176.666903  184.0  318.00   \n",
       "scaled_radius_of_gyration    844.0  174.709716   32.584808  109.0  149.00   \n",
       "scaled_radius_of_gyration.1  842.0   72.447743    7.486190   59.0   67.00   \n",
       "skewness_about               840.0    6.364286    4.920649    0.0    2.00   \n",
       "skewness_about.1             845.0   12.602367    8.936081    0.0    5.00   \n",
       "skewness_about.2             845.0  188.919527    6.155809  176.0  184.00   \n",
       "hollows_ratio                846.0  195.632388    7.438797  181.0  190.25   \n",
       "\n",
       "                               50%    75%     max  \n",
       "compactness                   93.0  100.0   119.0  \n",
       "circularity                   44.0   49.0    59.0  \n",
       "distance_circularity          80.0   98.0   112.0  \n",
       "radius_ratio                 167.0  195.0   333.0  \n",
       "pr.axis_aspect_ratio          61.0   65.0   138.0  \n",
       "max.length_aspect_ratio        8.0   10.0    55.0  \n",
       "scatter_ratio                157.0  198.0   265.0  \n",
       "elongatedness                 43.0   46.0    61.0  \n",
       "pr.axis_rectangularity        20.0   23.0    29.0  \n",
       "max.length_rectangularity    146.0  159.0   188.0  \n",
       "scaled_variance              179.0  217.0   320.0  \n",
       "scaled_variance.1            363.5  587.0  1018.0  \n",
       "scaled_radius_of_gyration    173.5  198.0   268.0  \n",
       "scaled_radius_of_gyration.1   71.5   75.0   135.0  \n",
       "skewness_about                 6.0    9.0    22.0  \n",
       "skewness_about.1              11.0   19.0    41.0  \n",
       "skewness_about.2             188.0  193.0   206.0  \n",
       "hollows_ratio                197.0  201.0   211.0  "
      ]
     },
     "execution_count": 89,
     "metadata": {},
     "output_type": "execute_result"
    }
   ],
   "source": [
    "df1.describe().transpose()"
   ]
  },
  {
   "cell_type": "code",
   "execution_count": 90,
   "metadata": {},
   "outputs": [
    {
     "data": {
      "text/plain": [
       "Index(['compactness', 'circularity', 'distance_circularity', 'radius_ratio',\n",
       "       'pr.axis_aspect_ratio', 'max.length_aspect_ratio', 'scatter_ratio',\n",
       "       'elongatedness', 'pr.axis_rectangularity', 'max.length_rectangularity',\n",
       "       'scaled_variance', 'scaled_variance.1', 'scaled_radius_of_gyration',\n",
       "       'scaled_radius_of_gyration.1', 'skewness_about', 'skewness_about.1',\n",
       "       'skewness_about.2', 'hollows_ratio', 'class'],\n",
       "      dtype='object')"
      ]
     },
     "execution_count": 90,
     "metadata": {},
     "output_type": "execute_result"
    }
   ],
   "source": [
    "df1.columns"
   ]
  },
  {
   "cell_type": "code",
   "execution_count": 91,
   "metadata": {},
   "outputs": [],
   "source": [
    "df1.rename(columns= {'compactness': 'Compactness', 'circularity': 'Circularity', 'distance_circularity': 'distance circularity', 'radius_ratio':'radius ratio',\n",
    "                    'pr.axis_aspect_ratio':'axis_aspect_ratio','max.length_aspect_ratio':'maxlength_aspect_ratio','scatter_ratio':'scatter ratio','elongatedness':'elongation',\n",
    "                    'pr.axis_rectangularity':'axis_rectangularity','max.length_rectangularity':'maxlength_rectangularity','scaled_variance':'scaledvariance',\n",
    "                     'scaled_variance.1':'scaledvariance1','scaled_radius_of_gyration':'scaled_radiusofgyration','scaled_radius_of_gyration.1':'scaled_radiusofgyration1',\n",
    "                    'skewness_about':'skewness','skewness_about.1':'skewness1','skewness_about.2':'skewness_about2','hollows_ratio':'hollowsratio',\n",
    "                    'class':'Class'},inplace=True)"
   ]
  },
  {
   "cell_type": "code",
   "execution_count": 92,
   "metadata": {},
   "outputs": [
    {
     "data": {
      "text/html": [
       "<div>\n",
       "<style scoped>\n",
       "    .dataframe tbody tr th:only-of-type {\n",
       "        vertical-align: middle;\n",
       "    }\n",
       "\n",
       "    .dataframe tbody tr th {\n",
       "        vertical-align: top;\n",
       "    }\n",
       "\n",
       "    .dataframe thead th {\n",
       "        text-align: right;\n",
       "    }\n",
       "</style>\n",
       "<table border=\"1\" class=\"dataframe\">\n",
       "  <thead>\n",
       "    <tr style=\"text-align: right;\">\n",
       "      <th></th>\n",
       "      <th>Compactness</th>\n",
       "      <th>Circularity</th>\n",
       "      <th>distance circularity</th>\n",
       "      <th>radius ratio</th>\n",
       "      <th>axis_aspect_ratio</th>\n",
       "      <th>maxlength_aspect_ratio</th>\n",
       "      <th>scatter ratio</th>\n",
       "      <th>elongation</th>\n",
       "      <th>axis_rectangularity</th>\n",
       "      <th>maxlength_rectangularity</th>\n",
       "      <th>scaledvariance</th>\n",
       "      <th>scaledvariance1</th>\n",
       "      <th>scaled_radiusofgyration</th>\n",
       "      <th>scaled_radiusofgyration1</th>\n",
       "      <th>skewness</th>\n",
       "      <th>skewness1</th>\n",
       "      <th>skewness_about2</th>\n",
       "      <th>hollowsratio</th>\n",
       "      <th>Class</th>\n",
       "    </tr>\n",
       "  </thead>\n",
       "  <tbody>\n",
       "    <tr>\n",
       "      <th>0</th>\n",
       "      <td>95</td>\n",
       "      <td>48.0</td>\n",
       "      <td>83.0</td>\n",
       "      <td>178.0</td>\n",
       "      <td>72.0</td>\n",
       "      <td>10</td>\n",
       "      <td>162.0</td>\n",
       "      <td>42.0</td>\n",
       "      <td>20.0</td>\n",
       "      <td>159</td>\n",
       "      <td>176.0</td>\n",
       "      <td>379.0</td>\n",
       "      <td>184.0</td>\n",
       "      <td>70.0</td>\n",
       "      <td>6.0</td>\n",
       "      <td>16.0</td>\n",
       "      <td>187.0</td>\n",
       "      <td>197</td>\n",
       "      <td>van</td>\n",
       "    </tr>\n",
       "    <tr>\n",
       "      <th>1</th>\n",
       "      <td>91</td>\n",
       "      <td>41.0</td>\n",
       "      <td>84.0</td>\n",
       "      <td>141.0</td>\n",
       "      <td>57.0</td>\n",
       "      <td>9</td>\n",
       "      <td>149.0</td>\n",
       "      <td>45.0</td>\n",
       "      <td>19.0</td>\n",
       "      <td>143</td>\n",
       "      <td>170.0</td>\n",
       "      <td>330.0</td>\n",
       "      <td>158.0</td>\n",
       "      <td>72.0</td>\n",
       "      <td>9.0</td>\n",
       "      <td>14.0</td>\n",
       "      <td>189.0</td>\n",
       "      <td>199</td>\n",
       "      <td>van</td>\n",
       "    </tr>\n",
       "    <tr>\n",
       "      <th>2</th>\n",
       "      <td>104</td>\n",
       "      <td>50.0</td>\n",
       "      <td>106.0</td>\n",
       "      <td>209.0</td>\n",
       "      <td>66.0</td>\n",
       "      <td>10</td>\n",
       "      <td>207.0</td>\n",
       "      <td>32.0</td>\n",
       "      <td>23.0</td>\n",
       "      <td>158</td>\n",
       "      <td>223.0</td>\n",
       "      <td>635.0</td>\n",
       "      <td>220.0</td>\n",
       "      <td>73.0</td>\n",
       "      <td>14.0</td>\n",
       "      <td>9.0</td>\n",
       "      <td>188.0</td>\n",
       "      <td>196</td>\n",
       "      <td>car</td>\n",
       "    </tr>\n",
       "    <tr>\n",
       "      <th>3</th>\n",
       "      <td>93</td>\n",
       "      <td>41.0</td>\n",
       "      <td>82.0</td>\n",
       "      <td>159.0</td>\n",
       "      <td>63.0</td>\n",
       "      <td>9</td>\n",
       "      <td>144.0</td>\n",
       "      <td>46.0</td>\n",
       "      <td>19.0</td>\n",
       "      <td>143</td>\n",
       "      <td>160.0</td>\n",
       "      <td>309.0</td>\n",
       "      <td>127.0</td>\n",
       "      <td>63.0</td>\n",
       "      <td>6.0</td>\n",
       "      <td>10.0</td>\n",
       "      <td>199.0</td>\n",
       "      <td>207</td>\n",
       "      <td>van</td>\n",
       "    </tr>\n",
       "    <tr>\n",
       "      <th>4</th>\n",
       "      <td>85</td>\n",
       "      <td>44.0</td>\n",
       "      <td>70.0</td>\n",
       "      <td>205.0</td>\n",
       "      <td>103.0</td>\n",
       "      <td>52</td>\n",
       "      <td>149.0</td>\n",
       "      <td>45.0</td>\n",
       "      <td>19.0</td>\n",
       "      <td>144</td>\n",
       "      <td>241.0</td>\n",
       "      <td>325.0</td>\n",
       "      <td>188.0</td>\n",
       "      <td>127.0</td>\n",
       "      <td>9.0</td>\n",
       "      <td>11.0</td>\n",
       "      <td>180.0</td>\n",
       "      <td>183</td>\n",
       "      <td>bus</td>\n",
       "    </tr>\n",
       "  </tbody>\n",
       "</table>\n",
       "</div>"
      ],
      "text/plain": [
       "   Compactness  Circularity  distance circularity  radius ratio  \\\n",
       "0           95         48.0                  83.0         178.0   \n",
       "1           91         41.0                  84.0         141.0   \n",
       "2          104         50.0                 106.0         209.0   \n",
       "3           93         41.0                  82.0         159.0   \n",
       "4           85         44.0                  70.0         205.0   \n",
       "\n",
       "   axis_aspect_ratio  maxlength_aspect_ratio  scatter ratio  elongation  \\\n",
       "0               72.0                      10          162.0        42.0   \n",
       "1               57.0                       9          149.0        45.0   \n",
       "2               66.0                      10          207.0        32.0   \n",
       "3               63.0                       9          144.0        46.0   \n",
       "4              103.0                      52          149.0        45.0   \n",
       "\n",
       "   axis_rectangularity  maxlength_rectangularity  scaledvariance  \\\n",
       "0                 20.0                       159           176.0   \n",
       "1                 19.0                       143           170.0   \n",
       "2                 23.0                       158           223.0   \n",
       "3                 19.0                       143           160.0   \n",
       "4                 19.0                       144           241.0   \n",
       "\n",
       "   scaledvariance1  scaled_radiusofgyration  scaled_radiusofgyration1  \\\n",
       "0            379.0                    184.0                      70.0   \n",
       "1            330.0                    158.0                      72.0   \n",
       "2            635.0                    220.0                      73.0   \n",
       "3            309.0                    127.0                      63.0   \n",
       "4            325.0                    188.0                     127.0   \n",
       "\n",
       "   skewness  skewness1  skewness_about2  hollowsratio Class  \n",
       "0       6.0       16.0            187.0           197   van  \n",
       "1       9.0       14.0            189.0           199   van  \n",
       "2      14.0        9.0            188.0           196   car  \n",
       "3       6.0       10.0            199.0           207   van  \n",
       "4       9.0       11.0            180.0           183   bus  "
      ]
     },
     "execution_count": 92,
     "metadata": {},
     "output_type": "execute_result"
    }
   ],
   "source": [
    "df1.head()"
   ]
  },
  {
   "cell_type": "code",
   "execution_count": 93,
   "metadata": {},
   "outputs": [
    {
     "data": {
      "text/plain": [
       "Index(['Compactness', 'Circularity', 'distance circularity', 'radius ratio',\n",
       "       'axis_aspect_ratio', 'maxlength_aspect_ratio', 'scatter ratio',\n",
       "       'elongation', 'axis_rectangularity', 'maxlength_rectangularity',\n",
       "       'scaledvariance', 'scaledvariance1', 'scaled_radiusofgyration',\n",
       "       'scaled_radiusofgyration1', 'skewness', 'skewness1', 'skewness_about2',\n",
       "       'hollowsratio', 'Class'],\n",
       "      dtype='object')"
      ]
     },
     "execution_count": 93,
     "metadata": {},
     "output_type": "execute_result"
    }
   ],
   "source": [
    "df1.columns"
   ]
  },
  {
   "cell_type": "markdown",
   "metadata": {},
   "source": [
    "PLOTS"
   ]
  },
  {
   "cell_type": "code",
   "execution_count": 94,
   "metadata": {},
   "outputs": [
    {
     "data": {
      "text/plain": [
       "array([[<matplotlib.axes._subplots.AxesSubplot object at 0x0000024713309E48>,\n",
       "        <matplotlib.axes._subplots.AxesSubplot object at 0x0000024713328B08>,\n",
       "        <matplotlib.axes._subplots.AxesSubplot object at 0x000002471335B988>,\n",
       "        <matplotlib.axes._subplots.AxesSubplot object at 0x0000024713394048>],\n",
       "       [<matplotlib.axes._subplots.AxesSubplot object at 0x00000247133C7988>,\n",
       "        <matplotlib.axes._subplots.AxesSubplot object at 0x00000247133FD708>,\n",
       "        <matplotlib.axes._subplots.AxesSubplot object at 0x00000247118A17C8>,\n",
       "        <matplotlib.axes._subplots.AxesSubplot object at 0x000002471166F608>],\n",
       "       [<matplotlib.axes._subplots.AxesSubplot object at 0x00000247110DFEC8>,\n",
       "        <matplotlib.axes._subplots.AxesSubplot object at 0x000002471168D588>,\n",
       "        <matplotlib.axes._subplots.AxesSubplot object at 0x0000024713E86808>,\n",
       "        <matplotlib.axes._subplots.AxesSubplot object at 0x0000024713EBC908>],\n",
       "       [<matplotlib.axes._subplots.AxesSubplot object at 0x0000024713EF5A08>,\n",
       "        <matplotlib.axes._subplots.AxesSubplot object at 0x0000024713F2FB08>,\n",
       "        <matplotlib.axes._subplots.AxesSubplot object at 0x0000024713F66C08>,\n",
       "        <matplotlib.axes._subplots.AxesSubplot object at 0x0000024713F9DD48>],\n",
       "       [<matplotlib.axes._subplots.AxesSubplot object at 0x0000024713FD6E48>,\n",
       "        <matplotlib.axes._subplots.AxesSubplot object at 0x000002471400FF08>,\n",
       "        <matplotlib.axes._subplots.AxesSubplot object at 0x000002471404E088>,\n",
       "        <matplotlib.axes._subplots.AxesSubplot object at 0x0000024714087248>]],\n",
       "      dtype=object)"
      ]
     },
     "execution_count": 94,
     "metadata": {},
     "output_type": "execute_result"
    },
    {
     "data": {
      "image/png": "[encoded data removed]",
      "text/plain": [
       "<Figure size 1080x1080 with 20 Axes>"
      ]
     },
     "metadata": {},
     "output_type": "display_data"
    }
   ],
   "source": [
    "#1.Histogram\n",
    "df1.hist(figsize=(15,15))"
   ]
  },
  {
   "cell_type": "markdown",
   "metadata": {},
   "source": [
    "Analysis of Histogram:\n",
    "    \n",
    "    1.attributes such as maxlength_aspect_ratio,axis_aspect_ratio,axis_rectangularity,\n",
    "    radius ratio,caled_radiusofgyration1,skewness,skewness1 are skewed due to outliers\n",
    "    \n",
    "    2.attributes such as Circularity,Compactness,elongation,scaled_radiusofgyration1,maxlength_rectangularity \n",
    "    are normally distributed visually."
   ]
  },
  {
   "cell_type": "code",
   "execution_count": 95,
   "metadata": {},
   "outputs": [
    {
     "data": {
      "text/plain": [
       "<matplotlib.axes._subplots.AxesSubplot at 0x24715d9b408>"
      ]
     },
     "execution_count": 95,
     "metadata": {},
     "output_type": "execute_result"
    },
    {
     "data": {
      "image/png": "[encoded data removed]",
      "text/plain": [
       "<Figure size 432x288 with 1 Axes>"
      ]
     },
     "metadata": {},
     "output_type": "display_data"
    }
   ],
   "source": [
    "#2.distplots\n",
    "sns.distplot(df1['Compactness'])"
   ]
  },
  {
   "cell_type": "code",
   "execution_count": 96,
   "metadata": {},
   "outputs": [
    {
     "data": {
      "text/plain": [
       "<matplotlib.axes._subplots.AxesSubplot at 0x247160cd148>"
      ]
     },
     "execution_count": 96,
     "metadata": {},
     "output_type": "execute_result"
    },
    {
     "data": {
      "image/png": "[encoded data removed]",
      "text/plain": [
       "<Figure size 432x288 with 1 Axes>"
      ]
     },
     "metadata": {},
     "output_type": "display_data"
    }
   ],
   "source": [
    "sns.distplot(df1['maxlength_aspect_ratio'])"
   ]
  },
  {
   "cell_type": "code",
   "execution_count": 97,
   "metadata": {},
   "outputs": [
    {
     "data": {
      "text/plain": [
       "<matplotlib.axes._subplots.AxesSubplot at 0x2471585d788>"
      ]
     },
     "execution_count": 97,
     "metadata": {},
     "output_type": "execute_result"
    },
    {
     "data": {
      "image/png": "[encoded data removed]",
      "text/plain": [
       "<Figure size 432x288 with 1 Axes>"
      ]
     },
     "metadata": {},
     "output_type": "display_data"
    }
   ],
   "source": [
    "sns.distplot(df1['maxlength_aspect_ratio'])"
   ]
  },
  {
   "cell_type": "code",
   "execution_count": 98,
   "metadata": {},
   "outputs": [
    {
     "data": {
      "text/plain": [
       "<matplotlib.axes._subplots.AxesSubplot at 0x24715936e48>"
      ]
     },
     "execution_count": 98,
     "metadata": {},
     "output_type": "execute_result"
    },
    {
     "data": {
      "image/png": "[encoded data removed]",
      "text/plain": [
       "<Figure size 432x288 with 1 Axes>"
      ]
     },
     "metadata": {},
     "output_type": "display_data"
    }
   ],
   "source": [
    "sns.distplot(df1['hollowsratio'])"
   ]
  },
  {
   "cell_type": "markdown",
   "metadata": {},
   "source": [
    "BOXPLOTS"
   ]
  },
  {
   "cell_type": "code",
   "execution_count": 99,
   "metadata": {
    "scrolled": true
   },
   "outputs": [
    {
     "data": {
      "text/plain": [
       "<matplotlib.axes._subplots.AxesSubplot at 0x247159d2308>"
      ]
     },
     "execution_count": 99,
     "metadata": {},
     "output_type": "execute_result"
    },
    {
     "data": {
      "image/png": "[encoded data removed]",
      "text/plain": [
       "<Figure size 2880x1440 with 1 Axes>"
      ]
     },
     "metadata": {},
     "output_type": "display_data"
    }
   ],
   "source": [
    "df1.boxplot(column=['Compactness', 'Circularity', 'distance circularity', 'radius ratio',\n",
    "       'axis_aspect_ratio', 'maxlength_aspect_ratio', 'scatter ratio',\n",
    "       'elongation', 'axis_rectangularity', 'maxlength_rectangularity',\n",
    "       'scaledvariance', 'scaledvariance1', 'scaled_radiusofgyration',\n",
    "       'scaled_radiusofgyration1', 'skewness', 'skewness1', 'skewness_about2',\n",
    "       'hollowsratio'],figsize=(40,20))\n",
    "#double click to view"
   ]
  },
  {
   "cell_type": "code",
   "execution_count": 100,
   "metadata": {},
   "outputs": [
    {
     "data": {
      "text/html": [
       "<div>\n",
       "<style scoped>\n",
       "    .dataframe tbody tr th:only-of-type {\n",
       "        vertical-align: middle;\n",
       "    }\n",
       "\n",
       "    .dataframe tbody tr th {\n",
       "        vertical-align: top;\n",
       "    }\n",
       "\n",
       "    .dataframe thead th {\n",
       "        text-align: right;\n",
       "    }\n",
       "</style>\n",
       "<table border=\"1\" class=\"dataframe\">\n",
       "  <thead>\n",
       "    <tr style=\"text-align: right;\">\n",
       "      <th></th>\n",
       "      <th>Compactness</th>\n",
       "      <th>Circularity</th>\n",
       "      <th>distance circularity</th>\n",
       "      <th>radius ratio</th>\n",
       "      <th>axis_aspect_ratio</th>\n",
       "      <th>maxlength_aspect_ratio</th>\n",
       "      <th>scatter ratio</th>\n",
       "      <th>elongation</th>\n",
       "      <th>axis_rectangularity</th>\n",
       "      <th>maxlength_rectangularity</th>\n",
       "      <th>scaledvariance</th>\n",
       "      <th>scaledvariance1</th>\n",
       "      <th>scaled_radiusofgyration</th>\n",
       "      <th>scaled_radiusofgyration1</th>\n",
       "      <th>skewness</th>\n",
       "      <th>skewness1</th>\n",
       "      <th>skewness_about2</th>\n",
       "      <th>hollowsratio</th>\n",
       "    </tr>\n",
       "  </thead>\n",
       "  <tbody>\n",
       "    <tr>\n",
       "      <th>Compactness</th>\n",
       "      <td>1.000000</td>\n",
       "      <td>0.689786</td>\n",
       "      <td>0.791707</td>\n",
       "      <td>0.691081</td>\n",
       "      <td>0.091779</td>\n",
       "      <td>0.148249</td>\n",
       "      <td>0.812770</td>\n",
       "      <td>-0.788736</td>\n",
       "      <td>0.814248</td>\n",
       "      <td>0.676143</td>\n",
       "      <td>0.764361</td>\n",
       "      <td>0.818674</td>\n",
       "      <td>0.585845</td>\n",
       "      <td>-0.250603</td>\n",
       "      <td>0.236685</td>\n",
       "      <td>0.157670</td>\n",
       "      <td>0.298528</td>\n",
       "      <td>0.365552</td>\n",
       "    </tr>\n",
       "    <tr>\n",
       "      <th>Circularity</th>\n",
       "      <td>0.689786</td>\n",
       "      <td>1.000000</td>\n",
       "      <td>0.797180</td>\n",
       "      <td>0.625051</td>\n",
       "      <td>0.154283</td>\n",
       "      <td>0.251407</td>\n",
       "      <td>0.858265</td>\n",
       "      <td>-0.827246</td>\n",
       "      <td>0.856603</td>\n",
       "      <td>0.965729</td>\n",
       "      <td>0.806791</td>\n",
       "      <td>0.850863</td>\n",
       "      <td>0.935950</td>\n",
       "      <td>0.053080</td>\n",
       "      <td>0.144968</td>\n",
       "      <td>-0.011869</td>\n",
       "      <td>-0.106339</td>\n",
       "      <td>0.045652</td>\n",
       "    </tr>\n",
       "    <tr>\n",
       "      <th>distance circularity</th>\n",
       "      <td>0.791707</td>\n",
       "      <td>0.797180</td>\n",
       "      <td>1.000000</td>\n",
       "      <td>0.771748</td>\n",
       "      <td>0.158684</td>\n",
       "      <td>0.264621</td>\n",
       "      <td>0.907949</td>\n",
       "      <td>-0.913020</td>\n",
       "      <td>0.896273</td>\n",
       "      <td>0.775149</td>\n",
       "      <td>0.865710</td>\n",
       "      <td>0.890541</td>\n",
       "      <td>0.706950</td>\n",
       "      <td>-0.227001</td>\n",
       "      <td>0.114665</td>\n",
       "      <td>0.266049</td>\n",
       "      <td>0.146027</td>\n",
       "      <td>0.333648</td>\n",
       "    </tr>\n",
       "    <tr>\n",
       "      <th>radius ratio</th>\n",
       "      <td>0.691081</td>\n",
       "      <td>0.625051</td>\n",
       "      <td>0.771748</td>\n",
       "      <td>1.000000</td>\n",
       "      <td>0.665363</td>\n",
       "      <td>0.450486</td>\n",
       "      <td>0.738480</td>\n",
       "      <td>-0.792946</td>\n",
       "      <td>0.712744</td>\n",
       "      <td>0.571083</td>\n",
       "      <td>0.798294</td>\n",
       "      <td>0.725598</td>\n",
       "      <td>0.541325</td>\n",
       "      <td>-0.181520</td>\n",
       "      <td>0.049112</td>\n",
       "      <td>0.174469</td>\n",
       "      <td>0.382912</td>\n",
       "      <td>0.472339</td>\n",
       "    </tr>\n",
       "    <tr>\n",
       "      <th>axis_aspect_ratio</th>\n",
       "      <td>0.091779</td>\n",
       "      <td>0.154283</td>\n",
       "      <td>0.158684</td>\n",
       "      <td>0.665363</td>\n",
       "      <td>1.000000</td>\n",
       "      <td>0.648861</td>\n",
       "      <td>0.103832</td>\n",
       "      <td>-0.183492</td>\n",
       "      <td>0.079566</td>\n",
       "      <td>0.127322</td>\n",
       "      <td>0.273738</td>\n",
       "      <td>0.089750</td>\n",
       "      <td>0.122454</td>\n",
       "      <td>0.152860</td>\n",
       "      <td>-0.058539</td>\n",
       "      <td>-0.032180</td>\n",
       "      <td>0.240201</td>\n",
       "      <td>0.267760</td>\n",
       "    </tr>\n",
       "    <tr>\n",
       "      <th>maxlength_aspect_ratio</th>\n",
       "      <td>0.148249</td>\n",
       "      <td>0.251407</td>\n",
       "      <td>0.264621</td>\n",
       "      <td>0.450486</td>\n",
       "      <td>0.648861</td>\n",
       "      <td>1.000000</td>\n",
       "      <td>0.165998</td>\n",
       "      <td>-0.180053</td>\n",
       "      <td>0.161603</td>\n",
       "      <td>0.305943</td>\n",
       "      <td>0.319033</td>\n",
       "      <td>0.143745</td>\n",
       "      <td>0.189752</td>\n",
       "      <td>0.295638</td>\n",
       "      <td>0.015446</td>\n",
       "      <td>0.043491</td>\n",
       "      <td>-0.026184</td>\n",
       "      <td>0.143919</td>\n",
       "    </tr>\n",
       "    <tr>\n",
       "      <th>scatter ratio</th>\n",
       "      <td>0.812770</td>\n",
       "      <td>0.858265</td>\n",
       "      <td>0.907949</td>\n",
       "      <td>0.738480</td>\n",
       "      <td>0.103832</td>\n",
       "      <td>0.165998</td>\n",
       "      <td>1.000000</td>\n",
       "      <td>-0.973504</td>\n",
       "      <td>0.992078</td>\n",
       "      <td>0.810017</td>\n",
       "      <td>0.951672</td>\n",
       "      <td>0.996328</td>\n",
       "      <td>0.800577</td>\n",
       "      <td>-0.028006</td>\n",
       "      <td>0.074376</td>\n",
       "      <td>0.213512</td>\n",
       "      <td>0.005171</td>\n",
       "      <td>0.118504</td>\n",
       "    </tr>\n",
       "    <tr>\n",
       "      <th>elongation</th>\n",
       "      <td>-0.788736</td>\n",
       "      <td>-0.827246</td>\n",
       "      <td>-0.913020</td>\n",
       "      <td>-0.792946</td>\n",
       "      <td>-0.183492</td>\n",
       "      <td>-0.180053</td>\n",
       "      <td>-0.973504</td>\n",
       "      <td>1.000000</td>\n",
       "      <td>-0.950405</td>\n",
       "      <td>-0.776150</td>\n",
       "      <td>-0.938313</td>\n",
       "      <td>-0.956488</td>\n",
       "      <td>-0.766671</td>\n",
       "      <td>0.103535</td>\n",
       "      <td>-0.052243</td>\n",
       "      <td>-0.186027</td>\n",
       "      <td>-0.114846</td>\n",
       "      <td>-0.216769</td>\n",
       "    </tr>\n",
       "    <tr>\n",
       "      <th>axis_rectangularity</th>\n",
       "      <td>0.814248</td>\n",
       "      <td>0.856603</td>\n",
       "      <td>0.896273</td>\n",
       "      <td>0.712744</td>\n",
       "      <td>0.079566</td>\n",
       "      <td>0.161603</td>\n",
       "      <td>0.992078</td>\n",
       "      <td>-0.950405</td>\n",
       "      <td>1.000000</td>\n",
       "      <td>0.813135</td>\n",
       "      <td>0.938182</td>\n",
       "      <td>0.992316</td>\n",
       "      <td>0.798522</td>\n",
       "      <td>-0.015711</td>\n",
       "      <td>0.083219</td>\n",
       "      <td>0.215200</td>\n",
       "      <td>-0.019066</td>\n",
       "      <td>0.099481</td>\n",
       "    </tr>\n",
       "    <tr>\n",
       "      <th>maxlength_rectangularity</th>\n",
       "      <td>0.676143</td>\n",
       "      <td>0.965729</td>\n",
       "      <td>0.775149</td>\n",
       "      <td>0.571083</td>\n",
       "      <td>0.127322</td>\n",
       "      <td>0.305943</td>\n",
       "      <td>0.810017</td>\n",
       "      <td>-0.776150</td>\n",
       "      <td>0.813135</td>\n",
       "      <td>1.000000</td>\n",
       "      <td>0.746657</td>\n",
       "      <td>0.797485</td>\n",
       "      <td>0.866554</td>\n",
       "      <td>0.041283</td>\n",
       "      <td>0.136077</td>\n",
       "      <td>0.001660</td>\n",
       "      <td>-0.104437</td>\n",
       "      <td>0.076770</td>\n",
       "    </tr>\n",
       "    <tr>\n",
       "      <th>scaledvariance</th>\n",
       "      <td>0.764361</td>\n",
       "      <td>0.806791</td>\n",
       "      <td>0.865710</td>\n",
       "      <td>0.798294</td>\n",
       "      <td>0.273738</td>\n",
       "      <td>0.319033</td>\n",
       "      <td>0.951672</td>\n",
       "      <td>-0.938313</td>\n",
       "      <td>0.938182</td>\n",
       "      <td>0.746657</td>\n",
       "      <td>1.000000</td>\n",
       "      <td>0.949766</td>\n",
       "      <td>0.781016</td>\n",
       "      <td>0.112452</td>\n",
       "      <td>0.036165</td>\n",
       "      <td>0.196202</td>\n",
       "      <td>0.014434</td>\n",
       "      <td>0.086708</td>\n",
       "    </tr>\n",
       "    <tr>\n",
       "      <th>scaledvariance1</th>\n",
       "      <td>0.818674</td>\n",
       "      <td>0.850863</td>\n",
       "      <td>0.890541</td>\n",
       "      <td>0.725598</td>\n",
       "      <td>0.089750</td>\n",
       "      <td>0.143745</td>\n",
       "      <td>0.996328</td>\n",
       "      <td>-0.956488</td>\n",
       "      <td>0.992316</td>\n",
       "      <td>0.797485</td>\n",
       "      <td>0.949766</td>\n",
       "      <td>1.000000</td>\n",
       "      <td>0.797318</td>\n",
       "      <td>-0.016642</td>\n",
       "      <td>0.077288</td>\n",
       "      <td>0.202398</td>\n",
       "      <td>0.006648</td>\n",
       "      <td>0.103839</td>\n",
       "    </tr>\n",
       "    <tr>\n",
       "      <th>scaled_radiusofgyration</th>\n",
       "      <td>0.585845</td>\n",
       "      <td>0.935950</td>\n",
       "      <td>0.706950</td>\n",
       "      <td>0.541325</td>\n",
       "      <td>0.122454</td>\n",
       "      <td>0.189752</td>\n",
       "      <td>0.800577</td>\n",
       "      <td>-0.766671</td>\n",
       "      <td>0.798522</td>\n",
       "      <td>0.866554</td>\n",
       "      <td>0.781016</td>\n",
       "      <td>0.797318</td>\n",
       "      <td>1.000000</td>\n",
       "      <td>0.192245</td>\n",
       "      <td>0.166785</td>\n",
       "      <td>-0.056067</td>\n",
       "      <td>-0.225882</td>\n",
       "      <td>-0.118597</td>\n",
       "    </tr>\n",
       "    <tr>\n",
       "      <th>scaled_radiusofgyration1</th>\n",
       "      <td>-0.250603</td>\n",
       "      <td>0.053080</td>\n",
       "      <td>-0.227001</td>\n",
       "      <td>-0.181520</td>\n",
       "      <td>0.152860</td>\n",
       "      <td>0.295638</td>\n",
       "      <td>-0.028006</td>\n",
       "      <td>0.103535</td>\n",
       "      <td>-0.015711</td>\n",
       "      <td>0.041283</td>\n",
       "      <td>0.112452</td>\n",
       "      <td>-0.016642</td>\n",
       "      <td>0.192245</td>\n",
       "      <td>1.000000</td>\n",
       "      <td>-0.088736</td>\n",
       "      <td>-0.126686</td>\n",
       "      <td>-0.752437</td>\n",
       "      <td>-0.804793</td>\n",
       "    </tr>\n",
       "    <tr>\n",
       "      <th>skewness</th>\n",
       "      <td>0.236685</td>\n",
       "      <td>0.144968</td>\n",
       "      <td>0.114665</td>\n",
       "      <td>0.049112</td>\n",
       "      <td>-0.058539</td>\n",
       "      <td>0.015446</td>\n",
       "      <td>0.074376</td>\n",
       "      <td>-0.052243</td>\n",
       "      <td>0.083219</td>\n",
       "      <td>0.136077</td>\n",
       "      <td>0.036165</td>\n",
       "      <td>0.077288</td>\n",
       "      <td>0.166785</td>\n",
       "      <td>-0.088736</td>\n",
       "      <td>1.000000</td>\n",
       "      <td>-0.035154</td>\n",
       "      <td>0.115728</td>\n",
       "      <td>0.097293</td>\n",
       "    </tr>\n",
       "    <tr>\n",
       "      <th>skewness1</th>\n",
       "      <td>0.157670</td>\n",
       "      <td>-0.011869</td>\n",
       "      <td>0.266049</td>\n",
       "      <td>0.174469</td>\n",
       "      <td>-0.032180</td>\n",
       "      <td>0.043491</td>\n",
       "      <td>0.213512</td>\n",
       "      <td>-0.186027</td>\n",
       "      <td>0.215200</td>\n",
       "      <td>0.001660</td>\n",
       "      <td>0.196202</td>\n",
       "      <td>0.202398</td>\n",
       "      <td>-0.056067</td>\n",
       "      <td>-0.126686</td>\n",
       "      <td>-0.035154</td>\n",
       "      <td>1.000000</td>\n",
       "      <td>0.077460</td>\n",
       "      <td>0.205115</td>\n",
       "    </tr>\n",
       "    <tr>\n",
       "      <th>skewness_about2</th>\n",
       "      <td>0.298528</td>\n",
       "      <td>-0.106339</td>\n",
       "      <td>0.146027</td>\n",
       "      <td>0.382912</td>\n",
       "      <td>0.240201</td>\n",
       "      <td>-0.026184</td>\n",
       "      <td>0.005171</td>\n",
       "      <td>-0.114846</td>\n",
       "      <td>-0.019066</td>\n",
       "      <td>-0.104437</td>\n",
       "      <td>0.014434</td>\n",
       "      <td>0.006648</td>\n",
       "      <td>-0.225882</td>\n",
       "      <td>-0.752437</td>\n",
       "      <td>0.115728</td>\n",
       "      <td>0.077460</td>\n",
       "      <td>1.000000</td>\n",
       "      <td>0.893869</td>\n",
       "    </tr>\n",
       "    <tr>\n",
       "      <th>hollowsratio</th>\n",
       "      <td>0.365552</td>\n",
       "      <td>0.045652</td>\n",
       "      <td>0.333648</td>\n",
       "      <td>0.472339</td>\n",
       "      <td>0.267760</td>\n",
       "      <td>0.143919</td>\n",
       "      <td>0.118504</td>\n",
       "      <td>-0.216769</td>\n",
       "      <td>0.099481</td>\n",
       "      <td>0.076770</td>\n",
       "      <td>0.086708</td>\n",
       "      <td>0.103839</td>\n",
       "      <td>-0.118597</td>\n",
       "      <td>-0.804793</td>\n",
       "      <td>0.097293</td>\n",
       "      <td>0.205115</td>\n",
       "      <td>0.893869</td>\n",
       "      <td>1.000000</td>\n",
       "    </tr>\n",
       "  </tbody>\n",
       "</table>\n",
       "</div>"
      ],
      "text/plain": [
       "                          Compactness  Circularity  distance circularity  \\\n",
       "Compactness                  1.000000     0.689786              0.791707   \n",
       "Circularity                  0.689786     1.000000              0.797180   \n",
       "distance circularity         0.791707     0.797180              1.000000   \n",
       "radius ratio                 0.691081     0.625051              0.771748   \n",
       "axis_aspect_ratio            0.091779     0.154283              0.158684   \n",
       "maxlength_aspect_ratio       0.148249     0.251407              0.264621   \n",
       "scatter ratio                0.812770     0.858265              0.907949   \n",
       "elongation                  -0.788736    -0.827246             -0.913020   \n",
       "axis_rectangularity          0.814248     0.856603              0.896273   \n",
       "maxlength_rectangularity     0.676143     0.965729              0.775149   \n",
       "scaledvariance               0.764361     0.806791              0.865710   \n",
       "scaledvariance1              0.818674     0.850863              0.890541   \n",
       "scaled_radiusofgyration      0.585845     0.935950              0.706950   \n",
       "scaled_radiusofgyration1    -0.250603     0.053080             -0.227001   \n",
       "skewness                     0.236685     0.144968              0.114665   \n",
       "skewness1                    0.157670    -0.011869              0.266049   \n",
       "skewness_about2              0.298528    -0.106339              0.146027   \n",
       "hollowsratio                 0.365552     0.045652              0.333648   \n",
       "\n",
       "                          radius ratio  axis_aspect_ratio  \\\n",
       "Compactness                   0.691081           0.091779   \n",
       "Circularity                   0.625051           0.154283   \n",
       "distance circularity          0.771748           0.158684   \n",
       "radius ratio                  1.000000           0.665363   \n",
       "axis_aspect_ratio             0.665363           1.000000   \n",
       "maxlength_aspect_ratio        0.450486           0.648861   \n",
       "scatter ratio                 0.738480           0.103832   \n",
       "elongation                   -0.792946          -0.183492   \n",
       "axis_rectangularity           0.712744           0.079566   \n",
       "maxlength_rectangularity      0.571083           0.127322   \n",
       "scaledvariance                0.798294           0.273738   \n",
       "scaledvariance1               0.725598           0.089750   \n",
       "scaled_radiusofgyration       0.541325           0.122454   \n",
       "scaled_radiusofgyration1     -0.181520           0.152860   \n",
       "skewness                      0.049112          -0.058539   \n",
       "skewness1                     0.174469          -0.032180   \n",
       "skewness_about2               0.382912           0.240201   \n",
       "hollowsratio                  0.472339           0.267760   \n",
       "\n",
       "                          maxlength_aspect_ratio  scatter ratio  elongation  \\\n",
       "Compactness                             0.148249       0.812770   -0.788736   \n",
       "Circularity                             0.251407       0.858265   -0.827246   \n",
       "distance circularity                    0.264621       0.907949   -0.913020   \n",
       "radius ratio                            0.450486       0.738480   -0.792946   \n",
       "axis_aspect_ratio                       0.648861       0.103832   -0.183492   \n",
       "maxlength_aspect_ratio                  1.000000       0.165998   -0.180053   \n",
       "scatter ratio                           0.165998       1.000000   -0.973504   \n",
       "elongation                             -0.180053      -0.973504    1.000000   \n",
       "axis_rectangularity                     0.161603       0.992078   -0.950405   \n",
       "maxlength_rectangularity                0.305943       0.810017   -0.776150   \n",
       "scaledvariance                          0.319033       0.951672   -0.938313   \n",
       "scaledvariance1                         0.143745       0.996328   -0.956488   \n",
       "scaled_radiusofgyration                 0.189752       0.800577   -0.766671   \n",
       "scaled_radiusofgyration1                0.295638      -0.028006    0.103535   \n",
       "skewness                                0.015446       0.074376   -0.052243   \n",
       "skewness1                               0.043491       0.213512   -0.186027   \n",
       "skewness_about2                        -0.026184       0.005171   -0.114846   \n",
       "hollowsratio                            0.143919       0.118504   -0.216769   \n",
       "\n",
       "                          axis_rectangularity  maxlength_rectangularity  \\\n",
       "Compactness                          0.814248                  0.676143   \n",
       "Circularity                          0.856603                  0.965729   \n",
       "distance circularity                 0.896273                  0.775149   \n",
       "radius ratio                         0.712744                  0.571083   \n",
       "axis_aspect_ratio                    0.079566                  0.127322   \n",
       "maxlength_aspect_ratio               0.161603                  0.305943   \n",
       "scatter ratio                        0.992078                  0.810017   \n",
       "elongation                          -0.950405                 -0.776150   \n",
       "axis_rectangularity                  1.000000                  0.813135   \n",
       "maxlength_rectangularity             0.813135                  1.000000   \n",
       "scaledvariance                       0.938182                  0.746657   \n",
       "scaledvariance1                      0.992316                  0.797485   \n",
       "scaled_radiusofgyration              0.798522                  0.866554   \n",
       "scaled_radiusofgyration1            -0.015711                  0.041283   \n",
       "skewness                             0.083219                  0.136077   \n",
       "skewness1                            0.215200                  0.001660   \n",
       "skewness_about2                     -0.019066                 -0.104437   \n",
       "hollowsratio                         0.099481                  0.076770   \n",
       "\n",
       "                          scaledvariance  scaledvariance1  \\\n",
       "Compactness                     0.764361         0.818674   \n",
       "Circularity                     0.806791         0.850863   \n",
       "distance circularity            0.865710         0.890541   \n",
       "radius ratio                    0.798294         0.725598   \n",
       "axis_aspect_ratio               0.273738         0.089750   \n",
       "maxlength_aspect_ratio          0.319033         0.143745   \n",
       "scatter ratio                   0.951672         0.996328   \n",
       "elongation                     -0.938313        -0.956488   \n",
       "axis_rectangularity             0.938182         0.992316   \n",
       "maxlength_rectangularity        0.746657         0.797485   \n",
       "scaledvariance                  1.000000         0.949766   \n",
       "scaledvariance1                 0.949766         1.000000   \n",
       "scaled_radiusofgyration         0.781016         0.797318   \n",
       "scaled_radiusofgyration1        0.112452        -0.016642   \n",
       "skewness                        0.036165         0.077288   \n",
       "skewness1                       0.196202         0.202398   \n",
       "skewness_about2                 0.014434         0.006648   \n",
       "hollowsratio                    0.086708         0.103839   \n",
       "\n",
       "                          scaled_radiusofgyration  scaled_radiusofgyration1  \\\n",
       "Compactness                              0.585845                 -0.250603   \n",
       "Circularity                              0.935950                  0.053080   \n",
       "distance circularity                     0.706950                 -0.227001   \n",
       "radius ratio                             0.541325                 -0.181520   \n",
       "axis_aspect_ratio                        0.122454                  0.152860   \n",
       "maxlength_aspect_ratio                   0.189752                  0.295638   \n",
       "scatter ratio                            0.800577                 -0.028006   \n",
       "elongation                              -0.766671                  0.103535   \n",
       "axis_rectangularity                      0.798522                 -0.015711   \n",
       "maxlength_rectangularity                 0.866554                  0.041283   \n",
       "scaledvariance                           0.781016                  0.112452   \n",
       "scaledvariance1                          0.797318                 -0.016642   \n",
       "scaled_radiusofgyration                  1.000000                  0.192245   \n",
       "scaled_radiusofgyration1                 0.192245                  1.000000   \n",
       "skewness                                 0.166785                 -0.088736   \n",
       "skewness1                               -0.056067                 -0.126686   \n",
       "skewness_about2                         -0.225882                 -0.752437   \n",
       "hollowsratio                            -0.118597                 -0.804793   \n",
       "\n",
       "                          skewness  skewness1  skewness_about2  hollowsratio  \n",
       "Compactness               0.236685   0.157670         0.298528      0.365552  \n",
       "Circularity               0.144968  -0.011869        -0.106339      0.045652  \n",
       "distance circularity      0.114665   0.266049         0.146027      0.333648  \n",
       "radius ratio              0.049112   0.174469         0.382912      0.472339  \n",
       "axis_aspect_ratio        -0.058539  -0.032180         0.240201      0.267760  \n",
       "maxlength_aspect_ratio    0.015446   0.043491        -0.026184      0.143919  \n",
       "scatter ratio             0.074376   0.213512         0.005171      0.118504  \n",
       "elongation               -0.052243  -0.186027        -0.114846     -0.216769  \n",
       "axis_rectangularity       0.083219   0.215200        -0.019066      0.099481  \n",
       "maxlength_rectangularity  0.136077   0.001660        -0.104437      0.076770  \n",
       "scaledvariance            0.036165   0.196202         0.014434      0.086708  \n",
       "scaledvariance1           0.077288   0.202398         0.006648      0.103839  \n",
       "scaled_radiusofgyration   0.166785  -0.056067        -0.225882     -0.118597  \n",
       "scaled_radiusofgyration1 -0.088736  -0.126686        -0.752437     -0.804793  \n",
       "skewness                  1.000000  -0.035154         0.115728      0.097293  \n",
       "skewness1                -0.035154   1.000000         0.077460      0.205115  \n",
       "skewness_about2           0.115728   0.077460         1.000000      0.893869  \n",
       "hollowsratio              0.097293   0.205115         0.893869      1.000000  "
      ]
     },
     "execution_count": 100,
     "metadata": {},
     "output_type": "execute_result"
    }
   ],
   "source": [
    "corr=df1.corr()\n",
    "corr"
   ]
  },
  {
   "cell_type": "code",
   "execution_count": 101,
   "metadata": {},
   "outputs": [
    {
     "data": {
      "text/plain": [
       "<matplotlib.axes._subplots.AxesSubplot at 0x24715bbf408>"
      ]
     },
     "execution_count": 101,
     "metadata": {},
     "output_type": "execute_result"
    },
    {
     "data": {
      "image/png": "[encoded data removed]",
      "text/plain": [
       "<Figure size 864x864 with 2 Axes>"
      ]
     },
     "metadata": {},
     "output_type": "display_data"
    }
   ],
   "source": [
    "plt.figure(figsize=(12, 12))\n",
    "sns.heatmap(corr,annot=True)"
   ]
  },
  {
   "cell_type": "code",
   "execution_count": 102,
   "metadata": {},
   "outputs": [
    {
     "data": {
      "text/plain": [
       "car    429\n",
       "bus    218\n",
       "van    199\n",
       "Name: Class, dtype: int64"
      ]
     },
     "execution_count": 102,
     "metadata": {},
     "output_type": "execute_result"
    }
   ],
   "source": [
    "df1['Class'].value_counts()"
   ]
  },
  {
   "cell_type": "markdown",
   "metadata": {},
   "source": [
    "# MISSING VALUES"
   ]
  },
  {
   "cell_type": "code",
   "execution_count": 103,
   "metadata": {},
   "outputs": [
    {
     "data": {
      "text/plain": [
       "Compactness                 0\n",
       "Circularity                 5\n",
       "distance circularity        4\n",
       "radius ratio                6\n",
       "axis_aspect_ratio           2\n",
       "maxlength_aspect_ratio      0\n",
       "scatter ratio               1\n",
       "elongation                  1\n",
       "axis_rectangularity         3\n",
       "maxlength_rectangularity    0\n",
       "scaledvariance              3\n",
       "scaledvariance1             2\n",
       "scaled_radiusofgyration     2\n",
       "scaled_radiusofgyration1    4\n",
       "skewness                    6\n",
       "skewness1                   1\n",
       "skewness_about2             1\n",
       "hollowsratio                0\n",
       "Class                       0\n",
       "dtype: int64"
      ]
     },
     "execution_count": 103,
     "metadata": {},
     "output_type": "execute_result"
    }
   ],
   "source": [
    "df1.isnull().sum()"
   ]
  },
  {
   "cell_type": "markdown",
   "metadata": {},
   "source": [
    "The number of missing values in each column is obtained by isnull()"
   ]
  },
  {
   "cell_type": "code",
   "execution_count": null,
   "metadata": {},
   "outputs": [],
   "source": []
  },
  {
   "cell_type": "code",
   "execution_count": 104,
   "metadata": {},
   "outputs": [],
   "source": [
    "for i in df1.columns[:-1]:\n",
    "    median_value = df1[i].median()\n",
    "    df1[i] = df1[i].fillna(median_value)"
   ]
  },
  {
   "cell_type": "markdown",
   "metadata": {},
   "source": [
    "the missing values is replaced by the mean of that attribute"
   ]
  },
  {
   "cell_type": "code",
   "execution_count": 105,
   "metadata": {},
   "outputs": [
    {
     "name": "stdout",
     "output_type": "stream",
     "text": [
      "<class 'pandas.core.frame.DataFrame'>\n",
      "RangeIndex: 846 entries, 0 to 845\n",
      "Data columns (total 19 columns):\n",
      " #   Column                    Non-Null Count  Dtype  \n",
      "---  ------                    --------------  -----  \n",
      " 0   Compactness               846 non-null    int64  \n",
      " 1   Circularity               846 non-null    float64\n",
      " 2   distance circularity      846 non-null    float64\n",
      " 3   radius ratio              846 non-null    float64\n",
      " 4   axis_aspect_ratio         846 non-null    float64\n",
      " 5   maxlength_aspect_ratio    846 non-null    int64  \n",
      " 6   scatter ratio             846 non-null    float64\n",
      " 7   elongation                846 non-null    float64\n",
      " 8   axis_rectangularity       846 non-null    float64\n",
      " 9   maxlength_rectangularity  846 non-null    int64  \n",
      " 10  scaledvariance            846 non-null    float64\n",
      " 11  scaledvariance1           846 non-null    float64\n",
      " 12  scaled_radiusofgyration   846 non-null    float64\n",
      " 13  scaled_radiusofgyration1  846 non-null    float64\n",
      " 14  skewness                  846 non-null    float64\n",
      " 15  skewness1                 846 non-null    float64\n",
      " 16  skewness_about2           846 non-null    float64\n",
      " 17  hollowsratio              846 non-null    int64  \n",
      " 18  Class                     846 non-null    object \n",
      "dtypes: float64(14), int64(4), object(1)\n",
      "memory usage: 125.7+ KB\n"
     ]
    }
   ],
   "source": [
    "df1.info()"
   ]
  },
  {
   "cell_type": "code",
   "execution_count": 106,
   "metadata": {},
   "outputs": [
    {
     "data": {
      "text/plain": [
       "Compactness                 0\n",
       "Circularity                 0\n",
       "distance circularity        0\n",
       "radius ratio                0\n",
       "axis_aspect_ratio           0\n",
       "maxlength_aspect_ratio      0\n",
       "scatter ratio               0\n",
       "elongation                  0\n",
       "axis_rectangularity         0\n",
       "maxlength_rectangularity    0\n",
       "scaledvariance              0\n",
       "scaledvariance1             0\n",
       "scaled_radiusofgyration     0\n",
       "scaled_radiusofgyration1    0\n",
       "skewness                    0\n",
       "skewness1                   0\n",
       "skewness_about2             0\n",
       "hollowsratio                0\n",
       "Class                       0\n",
       "dtype: int64"
      ]
     },
     "execution_count": 106,
     "metadata": {},
     "output_type": "execute_result"
    }
   ],
   "source": [
    "df1.isnull().sum()"
   ]
  },
  {
   "cell_type": "markdown",
   "metadata": {},
   "source": [
    "Now there are no missing values , all are replaced by mean values"
   ]
  },
  {
   "cell_type": "code",
   "execution_count": 107,
   "metadata": {},
   "outputs": [
    {
     "data": {
      "text/html": [
       "<div>\n",
       "<style scoped>\n",
       "    .dataframe tbody tr th:only-of-type {\n",
       "        vertical-align: middle;\n",
       "    }\n",
       "\n",
       "    .dataframe tbody tr th {\n",
       "        vertical-align: top;\n",
       "    }\n",
       "\n",
       "    .dataframe thead th {\n",
       "        text-align: right;\n",
       "    }\n",
       "</style>\n",
       "<table border=\"1\" class=\"dataframe\">\n",
       "  <thead>\n",
       "    <tr style=\"text-align: right;\">\n",
       "      <th></th>\n",
       "      <th>count</th>\n",
       "      <th>mean</th>\n",
       "      <th>std</th>\n",
       "      <th>min</th>\n",
       "      <th>25%</th>\n",
       "      <th>50%</th>\n",
       "      <th>75%</th>\n",
       "      <th>max</th>\n",
       "    </tr>\n",
       "  </thead>\n",
       "  <tbody>\n",
       "    <tr>\n",
       "      <th>Compactness</th>\n",
       "      <td>846.0</td>\n",
       "      <td>93.678487</td>\n",
       "      <td>8.234474</td>\n",
       "      <td>73.0</td>\n",
       "      <td>87.00</td>\n",
       "      <td>93.0</td>\n",
       "      <td>100.00</td>\n",
       "      <td>119.0</td>\n",
       "    </tr>\n",
       "    <tr>\n",
       "      <th>Circularity</th>\n",
       "      <td>846.0</td>\n",
       "      <td>44.823877</td>\n",
       "      <td>6.134272</td>\n",
       "      <td>33.0</td>\n",
       "      <td>40.00</td>\n",
       "      <td>44.0</td>\n",
       "      <td>49.00</td>\n",
       "      <td>59.0</td>\n",
       "    </tr>\n",
       "    <tr>\n",
       "      <th>distance circularity</th>\n",
       "      <td>846.0</td>\n",
       "      <td>82.100473</td>\n",
       "      <td>15.741569</td>\n",
       "      <td>40.0</td>\n",
       "      <td>70.00</td>\n",
       "      <td>80.0</td>\n",
       "      <td>98.00</td>\n",
       "      <td>112.0</td>\n",
       "    </tr>\n",
       "    <tr>\n",
       "      <th>radius ratio</th>\n",
       "      <td>846.0</td>\n",
       "      <td>168.874704</td>\n",
       "      <td>33.401356</td>\n",
       "      <td>104.0</td>\n",
       "      <td>141.00</td>\n",
       "      <td>167.0</td>\n",
       "      <td>195.00</td>\n",
       "      <td>333.0</td>\n",
       "    </tr>\n",
       "    <tr>\n",
       "      <th>axis_aspect_ratio</th>\n",
       "      <td>846.0</td>\n",
       "      <td>61.677305</td>\n",
       "      <td>7.882188</td>\n",
       "      <td>47.0</td>\n",
       "      <td>57.00</td>\n",
       "      <td>61.0</td>\n",
       "      <td>65.00</td>\n",
       "      <td>138.0</td>\n",
       "    </tr>\n",
       "    <tr>\n",
       "      <th>maxlength_aspect_ratio</th>\n",
       "      <td>846.0</td>\n",
       "      <td>8.567376</td>\n",
       "      <td>4.601217</td>\n",
       "      <td>2.0</td>\n",
       "      <td>7.00</td>\n",
       "      <td>8.0</td>\n",
       "      <td>10.00</td>\n",
       "      <td>55.0</td>\n",
       "    </tr>\n",
       "    <tr>\n",
       "      <th>scatter ratio</th>\n",
       "      <td>846.0</td>\n",
       "      <td>168.887707</td>\n",
       "      <td>33.197710</td>\n",
       "      <td>112.0</td>\n",
       "      <td>147.00</td>\n",
       "      <td>157.0</td>\n",
       "      <td>198.00</td>\n",
       "      <td>265.0</td>\n",
       "    </tr>\n",
       "    <tr>\n",
       "      <th>elongation</th>\n",
       "      <td>846.0</td>\n",
       "      <td>40.936170</td>\n",
       "      <td>7.811882</td>\n",
       "      <td>26.0</td>\n",
       "      <td>33.00</td>\n",
       "      <td>43.0</td>\n",
       "      <td>46.00</td>\n",
       "      <td>61.0</td>\n",
       "    </tr>\n",
       "    <tr>\n",
       "      <th>axis_rectangularity</th>\n",
       "      <td>846.0</td>\n",
       "      <td>20.580378</td>\n",
       "      <td>2.588558</td>\n",
       "      <td>17.0</td>\n",
       "      <td>19.00</td>\n",
       "      <td>20.0</td>\n",
       "      <td>23.00</td>\n",
       "      <td>29.0</td>\n",
       "    </tr>\n",
       "    <tr>\n",
       "      <th>maxlength_rectangularity</th>\n",
       "      <td>846.0</td>\n",
       "      <td>147.998818</td>\n",
       "      <td>14.515652</td>\n",
       "      <td>118.0</td>\n",
       "      <td>137.00</td>\n",
       "      <td>146.0</td>\n",
       "      <td>159.00</td>\n",
       "      <td>188.0</td>\n",
       "    </tr>\n",
       "    <tr>\n",
       "      <th>scaledvariance</th>\n",
       "      <td>846.0</td>\n",
       "      <td>188.596927</td>\n",
       "      <td>31.360427</td>\n",
       "      <td>130.0</td>\n",
       "      <td>167.00</td>\n",
       "      <td>179.0</td>\n",
       "      <td>217.00</td>\n",
       "      <td>320.0</td>\n",
       "    </tr>\n",
       "    <tr>\n",
       "      <th>scaledvariance1</th>\n",
       "      <td>846.0</td>\n",
       "      <td>439.314421</td>\n",
       "      <td>176.496341</td>\n",
       "      <td>184.0</td>\n",
       "      <td>318.25</td>\n",
       "      <td>363.5</td>\n",
       "      <td>586.75</td>\n",
       "      <td>1018.0</td>\n",
       "    </tr>\n",
       "    <tr>\n",
       "      <th>scaled_radiusofgyration</th>\n",
       "      <td>846.0</td>\n",
       "      <td>174.706856</td>\n",
       "      <td>32.546277</td>\n",
       "      <td>109.0</td>\n",
       "      <td>149.00</td>\n",
       "      <td>173.5</td>\n",
       "      <td>198.00</td>\n",
       "      <td>268.0</td>\n",
       "    </tr>\n",
       "    <tr>\n",
       "      <th>scaled_radiusofgyration1</th>\n",
       "      <td>846.0</td>\n",
       "      <td>72.443262</td>\n",
       "      <td>7.468734</td>\n",
       "      <td>59.0</td>\n",
       "      <td>67.00</td>\n",
       "      <td>71.5</td>\n",
       "      <td>75.00</td>\n",
       "      <td>135.0</td>\n",
       "    </tr>\n",
       "    <tr>\n",
       "      <th>skewness</th>\n",
       "      <td>846.0</td>\n",
       "      <td>6.361702</td>\n",
       "      <td>4.903244</td>\n",
       "      <td>0.0</td>\n",
       "      <td>2.00</td>\n",
       "      <td>6.0</td>\n",
       "      <td>9.00</td>\n",
       "      <td>22.0</td>\n",
       "    </tr>\n",
       "    <tr>\n",
       "      <th>skewness1</th>\n",
       "      <td>846.0</td>\n",
       "      <td>12.600473</td>\n",
       "      <td>8.930962</td>\n",
       "      <td>0.0</td>\n",
       "      <td>5.00</td>\n",
       "      <td>11.0</td>\n",
       "      <td>19.00</td>\n",
       "      <td>41.0</td>\n",
       "    </tr>\n",
       "    <tr>\n",
       "      <th>skewness_about2</th>\n",
       "      <td>846.0</td>\n",
       "      <td>188.918440</td>\n",
       "      <td>6.152247</td>\n",
       "      <td>176.0</td>\n",
       "      <td>184.00</td>\n",
       "      <td>188.0</td>\n",
       "      <td>193.00</td>\n",
       "      <td>206.0</td>\n",
       "    </tr>\n",
       "    <tr>\n",
       "      <th>hollowsratio</th>\n",
       "      <td>846.0</td>\n",
       "      <td>195.632388</td>\n",
       "      <td>7.438797</td>\n",
       "      <td>181.0</td>\n",
       "      <td>190.25</td>\n",
       "      <td>197.0</td>\n",
       "      <td>201.00</td>\n",
       "      <td>211.0</td>\n",
       "    </tr>\n",
       "  </tbody>\n",
       "</table>\n",
       "</div>"
      ],
      "text/plain": [
       "                          count        mean         std    min     25%    50%  \\\n",
       "Compactness               846.0   93.678487    8.234474   73.0   87.00   93.0   \n",
       "Circularity               846.0   44.823877    6.134272   33.0   40.00   44.0   \n",
       "distance circularity      846.0   82.100473   15.741569   40.0   70.00   80.0   \n",
       "radius ratio              846.0  168.874704   33.401356  104.0  141.00  167.0   \n",
       "axis_aspect_ratio         846.0   61.677305    7.882188   47.0   57.00   61.0   \n",
       "maxlength_aspect_ratio    846.0    8.567376    4.601217    2.0    7.00    8.0   \n",
       "scatter ratio             846.0  168.887707   33.197710  112.0  147.00  157.0   \n",
       "elongation                846.0   40.936170    7.811882   26.0   33.00   43.0   \n",
       "axis_rectangularity       846.0   20.580378    2.588558   17.0   19.00   20.0   \n",
       "maxlength_rectangularity  846.0  147.998818   14.515652  118.0  137.00  146.0   \n",
       "scaledvariance            846.0  188.596927   31.360427  130.0  167.00  179.0   \n",
       "scaledvariance1           846.0  439.314421  176.496341  184.0  318.25  363.5   \n",
       "scaled_radiusofgyration   846.0  174.706856   32.546277  109.0  149.00  173.5   \n",
       "scaled_radiusofgyration1  846.0   72.443262    7.468734   59.0   67.00   71.5   \n",
       "skewness                  846.0    6.361702    4.903244    0.0    2.00    6.0   \n",
       "skewness1                 846.0   12.600473    8.930962    0.0    5.00   11.0   \n",
       "skewness_about2           846.0  188.918440    6.152247  176.0  184.00  188.0   \n",
       "hollowsratio              846.0  195.632388    7.438797  181.0  190.25  197.0   \n",
       "\n",
       "                             75%     max  \n",
       "Compactness               100.00   119.0  \n",
       "Circularity                49.00    59.0  \n",
       "distance circularity       98.00   112.0  \n",
       "radius ratio              195.00   333.0  \n",
       "axis_aspect_ratio          65.00   138.0  \n",
       "maxlength_aspect_ratio     10.00    55.0  \n",
       "scatter ratio             198.00   265.0  \n",
       "elongation                 46.00    61.0  \n",
       "axis_rectangularity        23.00    29.0  \n",
       "maxlength_rectangularity  159.00   188.0  \n",
       "scaledvariance            217.00   320.0  \n",
       "scaledvariance1           586.75  1018.0  \n",
       "scaled_radiusofgyration   198.00   268.0  \n",
       "scaled_radiusofgyration1   75.00   135.0  \n",
       "skewness                    9.00    22.0  \n",
       "skewness1                  19.00    41.0  \n",
       "skewness_about2           193.00   206.0  \n",
       "hollowsratio              201.00   211.0  "
      ]
     },
     "execution_count": 107,
     "metadata": {},
     "output_type": "execute_result"
    }
   ],
   "source": [
    "df1.describe().transpose()"
   ]
  },
  {
   "cell_type": "code",
   "execution_count": 108,
   "metadata": {},
   "outputs": [
    {
     "data": {
      "text/html": [
       "<div>\n",
       "<style scoped>\n",
       "    .dataframe tbody tr th:only-of-type {\n",
       "        vertical-align: middle;\n",
       "    }\n",
       "\n",
       "    .dataframe tbody tr th {\n",
       "        vertical-align: top;\n",
       "    }\n",
       "\n",
       "    .dataframe thead th {\n",
       "        text-align: right;\n",
       "    }\n",
       "</style>\n",
       "<table border=\"1\" class=\"dataframe\">\n",
       "  <thead>\n",
       "    <tr style=\"text-align: right;\">\n",
       "      <th></th>\n",
       "      <th>Compactness</th>\n",
       "      <th>Circularity</th>\n",
       "      <th>distance circularity</th>\n",
       "      <th>radius ratio</th>\n",
       "      <th>axis_aspect_ratio</th>\n",
       "      <th>maxlength_aspect_ratio</th>\n",
       "      <th>scatter ratio</th>\n",
       "      <th>elongation</th>\n",
       "      <th>axis_rectangularity</th>\n",
       "      <th>maxlength_rectangularity</th>\n",
       "      <th>scaledvariance</th>\n",
       "      <th>scaledvariance1</th>\n",
       "      <th>scaled_radiusofgyration</th>\n",
       "      <th>scaled_radiusofgyration1</th>\n",
       "      <th>skewness</th>\n",
       "      <th>skewness1</th>\n",
       "      <th>skewness_about2</th>\n",
       "      <th>hollowsratio</th>\n",
       "      <th>Class</th>\n",
       "    </tr>\n",
       "  </thead>\n",
       "  <tbody>\n",
       "    <tr>\n",
       "      <th>0</th>\n",
       "      <td>95</td>\n",
       "      <td>48.0</td>\n",
       "      <td>83.0</td>\n",
       "      <td>178.0</td>\n",
       "      <td>72.0</td>\n",
       "      <td>10</td>\n",
       "      <td>162.0</td>\n",
       "      <td>42.0</td>\n",
       "      <td>20.0</td>\n",
       "      <td>159</td>\n",
       "      <td>176.0</td>\n",
       "      <td>379.0</td>\n",
       "      <td>184.0</td>\n",
       "      <td>70.0</td>\n",
       "      <td>6.0</td>\n",
       "      <td>16.0</td>\n",
       "      <td>187.0</td>\n",
       "      <td>197</td>\n",
       "      <td>van</td>\n",
       "    </tr>\n",
       "    <tr>\n",
       "      <th>1</th>\n",
       "      <td>91</td>\n",
       "      <td>41.0</td>\n",
       "      <td>84.0</td>\n",
       "      <td>141.0</td>\n",
       "      <td>57.0</td>\n",
       "      <td>9</td>\n",
       "      <td>149.0</td>\n",
       "      <td>45.0</td>\n",
       "      <td>19.0</td>\n",
       "      <td>143</td>\n",
       "      <td>170.0</td>\n",
       "      <td>330.0</td>\n",
       "      <td>158.0</td>\n",
       "      <td>72.0</td>\n",
       "      <td>9.0</td>\n",
       "      <td>14.0</td>\n",
       "      <td>189.0</td>\n",
       "      <td>199</td>\n",
       "      <td>van</td>\n",
       "    </tr>\n",
       "    <tr>\n",
       "      <th>2</th>\n",
       "      <td>104</td>\n",
       "      <td>50.0</td>\n",
       "      <td>106.0</td>\n",
       "      <td>209.0</td>\n",
       "      <td>66.0</td>\n",
       "      <td>10</td>\n",
       "      <td>207.0</td>\n",
       "      <td>32.0</td>\n",
       "      <td>23.0</td>\n",
       "      <td>158</td>\n",
       "      <td>223.0</td>\n",
       "      <td>635.0</td>\n",
       "      <td>220.0</td>\n",
       "      <td>73.0</td>\n",
       "      <td>14.0</td>\n",
       "      <td>9.0</td>\n",
       "      <td>188.0</td>\n",
       "      <td>196</td>\n",
       "      <td>car</td>\n",
       "    </tr>\n",
       "    <tr>\n",
       "      <th>3</th>\n",
       "      <td>93</td>\n",
       "      <td>41.0</td>\n",
       "      <td>82.0</td>\n",
       "      <td>159.0</td>\n",
       "      <td>63.0</td>\n",
       "      <td>9</td>\n",
       "      <td>144.0</td>\n",
       "      <td>46.0</td>\n",
       "      <td>19.0</td>\n",
       "      <td>143</td>\n",
       "      <td>160.0</td>\n",
       "      <td>309.0</td>\n",
       "      <td>127.0</td>\n",
       "      <td>63.0</td>\n",
       "      <td>6.0</td>\n",
       "      <td>10.0</td>\n",
       "      <td>199.0</td>\n",
       "      <td>207</td>\n",
       "      <td>van</td>\n",
       "    </tr>\n",
       "    <tr>\n",
       "      <th>4</th>\n",
       "      <td>85</td>\n",
       "      <td>44.0</td>\n",
       "      <td>70.0</td>\n",
       "      <td>205.0</td>\n",
       "      <td>103.0</td>\n",
       "      <td>52</td>\n",
       "      <td>149.0</td>\n",
       "      <td>45.0</td>\n",
       "      <td>19.0</td>\n",
       "      <td>144</td>\n",
       "      <td>241.0</td>\n",
       "      <td>325.0</td>\n",
       "      <td>188.0</td>\n",
       "      <td>127.0</td>\n",
       "      <td>9.0</td>\n",
       "      <td>11.0</td>\n",
       "      <td>180.0</td>\n",
       "      <td>183</td>\n",
       "      <td>bus</td>\n",
       "    </tr>\n",
       "  </tbody>\n",
       "</table>\n",
       "</div>"
      ],
      "text/plain": [
       "   Compactness  Circularity  distance circularity  radius ratio  \\\n",
       "0           95         48.0                  83.0         178.0   \n",
       "1           91         41.0                  84.0         141.0   \n",
       "2          104         50.0                 106.0         209.0   \n",
       "3           93         41.0                  82.0         159.0   \n",
       "4           85         44.0                  70.0         205.0   \n",
       "\n",
       "   axis_aspect_ratio  maxlength_aspect_ratio  scatter ratio  elongation  \\\n",
       "0               72.0                      10          162.0        42.0   \n",
       "1               57.0                       9          149.0        45.0   \n",
       "2               66.0                      10          207.0        32.0   \n",
       "3               63.0                       9          144.0        46.0   \n",
       "4              103.0                      52          149.0        45.0   \n",
       "\n",
       "   axis_rectangularity  maxlength_rectangularity  scaledvariance  \\\n",
       "0                 20.0                       159           176.0   \n",
       "1                 19.0                       143           170.0   \n",
       "2                 23.0                       158           223.0   \n",
       "3                 19.0                       143           160.0   \n",
       "4                 19.0                       144           241.0   \n",
       "\n",
       "   scaledvariance1  scaled_radiusofgyration  scaled_radiusofgyration1  \\\n",
       "0            379.0                    184.0                      70.0   \n",
       "1            330.0                    158.0                      72.0   \n",
       "2            635.0                    220.0                      73.0   \n",
       "3            309.0                    127.0                      63.0   \n",
       "4            325.0                    188.0                     127.0   \n",
       "\n",
       "   skewness  skewness1  skewness_about2  hollowsratio Class  \n",
       "0       6.0       16.0            187.0           197   van  \n",
       "1       9.0       14.0            189.0           199   van  \n",
       "2      14.0        9.0            188.0           196   car  \n",
       "3       6.0       10.0            199.0           207   van  \n",
       "4       9.0       11.0            180.0           183   bus  "
      ]
     },
     "execution_count": 108,
     "metadata": {},
     "output_type": "execute_result"
    }
   ],
   "source": [
    "df1.head()"
   ]
  },
  {
   "cell_type": "code",
   "execution_count": 109,
   "metadata": {},
   "outputs": [
    {
     "data": {
      "text/plain": [
       "(846, 19)"
      ]
     },
     "execution_count": 109,
     "metadata": {},
     "output_type": "execute_result"
    }
   ],
   "source": [
    "df1.shape"
   ]
  },
  {
   "cell_type": "markdown",
   "metadata": {},
   "source": [
    "# OUTLIERS"
   ]
  },
  {
   "cell_type": "markdown",
   "metadata": {},
   "source": [
    "OUTLIER DETECTION AND REPLACE "
   ]
  },
  {
   "cell_type": "markdown",
   "metadata": {},
   "source": [
    "from the box plots we infer Outliers are present in the below coloumns\n",
    "\n",
    "col 4: radius ratio\n",
    "\n",
    "col 5: axis_aspect_ratio\n",
    "\n",
    "col 6: maxlength_aspect_ratio\n",
    "\n",
    "col 11: scaledvariance\n",
    "\n",
    "col 12: scaledvariance1\n",
    "\n",
    "col 14: scaled_radiusofgyration1\n",
    "\n",
    "col 15: skewness\n",
    "\n",
    "col 16: skewness1\n",
    "\n",
    "in the dataset Outliers can be treated by removing outliers or replacing outliers with  median or value equal to outer quartile range"
   ]
  },
  {
   "cell_type": "code",
   "execution_count": 110,
   "metadata": {},
   "outputs": [],
   "source": [
    "from numpy import percentile"
   ]
  },
  {
   "cell_type": "code",
   "execution_count": 111,
   "metadata": {},
   "outputs": [
    {
     "name": "stdout",
     "output_type": "stream",
     "text": [
      "Percentiles: 25th=141.000, 75th=195.000, IQR=54.000\n",
      "outlier cutoff: 81.0\n",
      "Outliers: [306.0, 322.0, 333.0]\n"
     ]
    }
   ],
   "source": [
    "q25, q75 = percentile(df1['radius ratio'], 25), percentile(df1['radius ratio'], 75)\n",
    "iqr = q75 - q25\n",
    "print('Percentiles: 25th=%.3f, 75th=%.3f, IQR=%.3f' % (q25, q75, iqr))\n",
    "# calculate the outlier cutoff\n",
    "cut_off = iqr * 1.5\n",
    "print('outlier cutoff:', cut_off)\n",
    "lower, upper = q25 - cut_off, q75 + cut_off\n",
    "outliers= [x for x in df1['radius ratio'] if x < lower or x > upper]\n",
    "print('Outliers:',outliers)\n",
    "a=df1['radius ratio'].median()\n",
    "df1['radius ratio'].replace(outliers,a,inplace=True)"
   ]
  },
  {
   "cell_type": "code",
   "execution_count": 112,
   "metadata": {},
   "outputs": [
    {
     "name": "stdout",
     "output_type": "stream",
     "text": [
      "Percentiles: 25th=57.000, 75th=65.000, IQR=8.000\n",
      "outlier cutoff: 12.0\n",
      "Outliers: [103.0, 126.0, 126.0, 133.0, 102.0, 138.0, 97.0, 105.0]\n"
     ]
    }
   ],
   "source": [
    "a25, a75 = percentile(df1['axis_aspect_ratio'], 25), percentile(df1['axis_aspect_ratio'], 75)\n",
    "iqr1 = a75 - a25\n",
    "print('Percentiles: 25th=%.3f, 75th=%.3f, IQR=%.3f' % (a25, a75, iqr1))\n",
    "# calculate the outlier cutoff\n",
    "cut_off1 = iqr1 * 1.5\n",
    "print('outlier cutoff:', cut_off1)\n",
    "lower1, upper1 = a25 - cut_off1, a75 + cut_off1\n",
    "a_outliers= [x for x in df1['axis_aspect_ratio'] if x < lower1 or x > upper1]\n",
    "print('Outliers:',a_outliers)\n",
    "b=df1['axis_aspect_ratio'].median()\n",
    "df1['axis_aspect_ratio'].replace(a_outliers,b,inplace=True)"
   ]
  },
  {
   "cell_type": "code",
   "execution_count": 113,
   "metadata": {},
   "outputs": [
    {
     "name": "stdout",
     "output_type": "stream",
     "text": [
      "Percentiles: 25th=7.000, 75th=10.000, IQR=3.000\n",
      "outlier cutoff: 4.5\n",
      "Outliers: [52, 49, 52, 22, 48, 43, 49, 25, 46, 19, 2, 55, 22]\n"
     ]
    }
   ],
   "source": [
    "b25, b75 = percentile(df1['maxlength_aspect_ratio'], 25), percentile(df1['maxlength_aspect_ratio'], 75)\n",
    "iqr2 = b75 - b25\n",
    "print('Percentiles: 25th=%.3f, 75th=%.3f, IQR=%.3f' % (b25, b75, iqr2))\n",
    "# calculate the outlier cutoff\n",
    "cut_off2 = iqr2 * 1.5\n",
    "print('outlier cutoff:', cut_off2)\n",
    "lower2, upper2 = b25 - cut_off2, b75 + cut_off2\n",
    "b_outliers= [x for x in df1['maxlength_aspect_ratio'] if x < lower2 or x > upper2]\n",
    "print('Outliers:',b_outliers)\n",
    "c=df1['maxlength_aspect_ratio'].median()\n",
    "df1['maxlength_aspect_ratio'].replace(b_outliers,c,inplace=True)"
   ]
  },
  {
   "cell_type": "code",
   "execution_count": 114,
   "metadata": {},
   "outputs": [
    {
     "name": "stdout",
     "output_type": "stream",
     "text": [
      "Percentiles: 25th=167.000, 75th=217.000, IQR=50.000\n",
      "outlier cutoff: 75.0\n",
      "Outliers: [320.0]\n"
     ]
    }
   ],
   "source": [
    "c25, c75 = percentile(df1['scaledvariance'], 25), percentile(df1['scaledvariance'], 75)\n",
    "iqr3 = c75 - c25\n",
    "print('Percentiles: 25th=%.3f, 75th=%.3f, IQR=%.3f' % (c25, c75, iqr3))\n",
    "# calculate the outlier cutoff\n",
    "cut_off3 = iqr3 * 1.5\n",
    "print('outlier cutoff:', cut_off3)\n",
    "lower3, upper3 = c25 - cut_off3, c75 + cut_off3\n",
    "c_outliers= [x for x in df1['scaledvariance'] if x < lower3 or x > upper3]\n",
    "print('Outliers:',c_outliers)\n",
    "d=df1['scaledvariance'].median()\n",
    "df1['scaledvariance'].replace(c_outliers,d,inplace=True)"
   ]
  },
  {
   "cell_type": "code",
   "execution_count": 115,
   "metadata": {},
   "outputs": [
    {
     "name": "stdout",
     "output_type": "stream",
     "text": [
      "Percentiles: 25th=318.250, 75th=586.750, IQR=268.500\n",
      "outlier cutoff: 402.75\n",
      "Outliers: [998.0, 1018.0]\n"
     ]
    }
   ],
   "source": [
    "d25, d75 = percentile(df1['scaledvariance1'], 25), percentile(df1['scaledvariance1'], 75)\n",
    "iqr4 = d75 - d25\n",
    "print('Percentiles: 25th=%.3f, 75th=%.3f, IQR=%.3f' % (d25, d75, iqr4))\n",
    "# calculate the outlier cutoff\n",
    "cut_off4 = iqr4 * 1.5\n",
    "print('outlier cutoff:', cut_off4)\n",
    "lower4, upper4 = d25 - cut_off4, d75 + cut_off4\n",
    "d_outliers= [x for x in df1['scaledvariance1'] if x < lower4 or x > upper4]\n",
    "print('Outliers:',d_outliers)\n",
    "e=df1['scaledvariance1'].median()\n",
    "df1['scaledvariance1'].replace(d_outliers,e,inplace=True)"
   ]
  },
  {
   "cell_type": "code",
   "execution_count": 116,
   "metadata": {},
   "outputs": [
    {
     "name": "stdout",
     "output_type": "stream",
     "text": [
      "Percentiles: 25th=2.000, 75th=9.000, IQR=7.000\n",
      "outlier cutoff: 10.5\n",
      "Outliers: [20.0, 21.0, 22.0, 20.0, 21.0, 21.0, 21.0, 22.0, 22.0, 22.0, 20.0, 21.0]\n"
     ]
    }
   ],
   "source": [
    "e25, e75 = percentile(df1['skewness'], 25), percentile(df1['skewness'], 75)\n",
    "iqr5 = e75 - e25\n",
    "print('Percentiles: 25th=%.3f, 75th=%.3f, IQR=%.3f' % (e25, e75, iqr5))\n",
    "# calculate the outlier cutoff\n",
    "cut_off5 = iqr5 * 1.5\n",
    "print('outlier cutoff:', cut_off5)\n",
    "lower5, upper5 = e25 - cut_off5, e75 + cut_off5\n",
    "e_outliers= [x for x in df1['skewness'] if x < lower5 or x > upper5]\n",
    "print('Outliers:',e_outliers)\n",
    "f=df1['skewness'].median()\n",
    "df1['skewness'].replace(e_outliers,f,inplace=True)"
   ]
  },
  {
   "cell_type": "code",
   "execution_count": 117,
   "metadata": {},
   "outputs": [
    {
     "name": "stdout",
     "output_type": "stream",
     "text": [
      "Percentiles: 25th=5.000, 75th=19.000, IQR=14.000\n",
      "outlier cutoff: 21.0\n",
      "Outliers: [41.0]\n"
     ]
    }
   ],
   "source": [
    "f25, f75 = percentile(df1['skewness1'], 25), percentile(df1['skewness1'], 75)\n",
    "iqr6 = f75 - f25\n",
    "print('Percentiles: 25th=%.3f, 75th=%.3f, IQR=%.3f' % (f25, f75, iqr6))\n",
    "# calculate the outlier cutoff\n",
    "cut_off6 = iqr6 * 1.5\n",
    "print('outlier cutoff:', cut_off6)\n",
    "lower6, upper6 = f25 - cut_off6, f75 + cut_off6\n",
    "f_outliers= [x for x in df1['skewness1'] if x < lower6 or x > upper6]\n",
    "print('Outliers:',f_outliers)\n",
    "g=df1['skewness1'].median()\n",
    "df1['skewness1'].replace(f_outliers,g,inplace=True)"
   ]
  },
  {
   "cell_type": "code",
   "execution_count": 118,
   "metadata": {},
   "outputs": [
    {
     "name": "stdout",
     "output_type": "stream",
     "text": [
      "Percentiles: 25th=67.000, 75th=75.000, IQR=14.000\n",
      "outlier cutoff: 12.0\n",
      "Outliers: [127.0, 118.0, 88.0, 88.0, 119.0, 97.0, 89.0, 90.0, 88.0, 135.0, 88.0, 91.0, 90.0, 99.0, 88.0]\n"
     ]
    }
   ],
   "source": [
    "g25, g75 = percentile(df1['scaled_radiusofgyration1'], 25), percentile(df1['scaled_radiusofgyration1'], 75)\n",
    "iqr7 = g75 - g25\n",
    "print('Percentiles: 25th=%.3f, 75th=%.3f, IQR=%.3f' % (g25, g75, iqr6))\n",
    "# calculate the outlier cutoff\n",
    "cut_off7 = iqr7 * 1.5\n",
    "print('outlier cutoff:', cut_off7)\n",
    "lower7, upper7 = g25 - cut_off7, g75 + cut_off7\n",
    "h_outliers= [x for x in df1['scaled_radiusofgyration1'] if x < lower7 or x > upper7]\n",
    "print('Outliers:',h_outliers)\n",
    "h=df1['scaled_radiusofgyration1'].median()\n",
    "df1['scaled_radiusofgyration1'].replace(h_outliers,h,inplace=True)"
   ]
  },
  {
   "cell_type": "code",
   "execution_count": 119,
   "metadata": {},
   "outputs": [
    {
     "data": {
      "text/plain": [
       "<matplotlib.axes._subplots.AxesSubplot at 0x247167045c8>"
      ]
     },
     "execution_count": 119,
     "metadata": {},
     "output_type": "execute_result"
    },
    {
     "data": {
      "image/png": "[encoded data removed]",
      "text/plain": [
       "<Figure size 2880x1440 with 1 Axes>"
      ]
     },
     "metadata": {},
     "output_type": "display_data"
    }
   ],
   "source": [
    "df1.boxplot(column=['Compactness', 'Circularity', 'distance circularity', 'radius ratio',\n",
    "       'axis_aspect_ratio', 'maxlength_aspect_ratio', 'scatter ratio',\n",
    "       'elongation', 'axis_rectangularity', 'maxlength_rectangularity',\n",
    "       'scaledvariance', 'scaledvariance1', 'scaled_radiusofgyration',\n",
    "       'scaled_radiusofgyration1', 'skewness', 'skewness1', 'skewness_about2',\n",
    "       'hollowsratio'],figsize=(40,20))"
   ]
  },
  {
   "cell_type": "markdown",
   "metadata": {},
   "source": [
    "THE class attribute is CATEGORICAL hence it is converted to Numerical"
   ]
  },
  {
   "cell_type": "code",
   "execution_count": 120,
   "metadata": {},
   "outputs": [],
   "source": [
    "X=df1.drop('Class',axis=1) ## All independent attributes  except class "
   ]
  },
  {
   "cell_type": "code",
   "execution_count": 121,
   "metadata": {},
   "outputs": [],
   "source": [
    "from sklearn.preprocessing import LabelEncoder\n",
    "le = LabelEncoder()\n",
    "df1['Class'] = le.fit_transform(df1['Class'])\n",
    "Y=df1['Class'] # only Class column"
   ]
  },
  {
   "cell_type": "code",
   "execution_count": 122,
   "metadata": {},
   "outputs": [
    {
     "data": {
      "text/plain": [
       "1    429\n",
       "0    218\n",
       "2    199\n",
       "Name: Class, dtype: int64"
      ]
     },
     "execution_count": 122,
     "metadata": {},
     "output_type": "execute_result"
    }
   ],
   "source": [
    "df1['Class'].value_counts()"
   ]
  },
  {
   "cell_type": "markdown",
   "metadata": {},
   "source": [
    "1: car 0: bus 2: van "
   ]
  },
  {
   "cell_type": "markdown",
   "metadata": {},
   "source": [
    "TEST_TRAIN_SPLIT"
   ]
  },
  {
   "cell_type": "code",
   "execution_count": 123,
   "metadata": {},
   "outputs": [],
   "source": [
    "from sklearn.model_selection import train_test_split"
   ]
  },
  {
   "cell_type": "code",
   "execution_count": 124,
   "metadata": {},
   "outputs": [],
   "source": [
    "X_train, X_test, y_train, y_test = train_test_split(X,Y, test_size = 0.25, random_state = 10)"
   ]
  },
  {
   "cell_type": "code",
   "execution_count": 125,
   "metadata": {},
   "outputs": [
    {
     "name": "stdout",
     "output_type": "stream",
     "text": [
      "(634, 18)\n",
      "(212, 18)\n",
      "(634,)\n",
      "(212,)\n"
     ]
    }
   ],
   "source": [
    "print(X_train.shape)\n",
    "print(X_test.shape)\n",
    "print(y_train.shape)\n",
    "print(y_test.shape)"
   ]
  },
  {
   "cell_type": "markdown",
   "metadata": {},
   "source": [
    "SCALING"
   ]
  },
  {
   "cell_type": "markdown",
   "metadata": {},
   "source": [
    "Certain attributes attributes might have higher numerical values when compared to other hence\n",
    "scaling is applied to bring all attributes to same magnitude for calculation\n",
    "\n",
    "Scaling is also necessary before using Principal component analysis"
   ]
  },
  {
   "cell_type": "code",
   "execution_count": 126,
   "metadata": {},
   "outputs": [],
   "source": [
    "from scipy.stats import zscore"
   ]
  },
  {
   "cell_type": "code",
   "execution_count": 127,
   "metadata": {},
   "outputs": [],
   "source": [
    "Xtrain_scaled=X_train.apply(zscore)\n",
    "Xtest_scaled=X_test.apply(zscore)"
   ]
  },
  {
   "cell_type": "markdown",
   "metadata": {},
   "source": [
    "PCA: Principle component analysis "
   ]
  },
  {
   "cell_type": "markdown",
   "metadata": {},
   "source": [
    "PCA technique is used to reduce the dimensionality of a data set consisting of many variables correlated with each other \n",
    "such that the 1st principal component retains maximum variation that was present in the original components."
   ]
  },
  {
   "cell_type": "code",
   "execution_count": 128,
   "metadata": {},
   "outputs": [],
   "source": [
    "from sklearn.decomposition import PCA"
   ]
  },
  {
   "cell_type": "code",
   "execution_count": 129,
   "metadata": {},
   "outputs": [],
   "source": [
    "pcomp=PCA(0.95)# 95% variance to be covered"
   ]
  },
  {
   "cell_type": "code",
   "execution_count": 130,
   "metadata": {},
   "outputs": [
    {
     "data": {
      "text/plain": [
       "PCA(copy=True, iterated_power='auto', n_components=0.95, random_state=None,\n",
       "    svd_solver='auto', tol=0.0, whiten=False)"
      ]
     },
     "execution_count": 130,
     "metadata": {},
     "output_type": "execute_result"
    }
   ],
   "source": [
    "pcomp.fit(Xtrain_scaled)"
   ]
  },
  {
   "cell_type": "code",
   "execution_count": 131,
   "metadata": {},
   "outputs": [
    {
     "data": {
      "text/plain": [
       "7"
      ]
     },
     "execution_count": 131,
     "metadata": {},
     "output_type": "execute_result"
    }
   ],
   "source": [
    "pcomp.n_components_"
   ]
  },
  {
   "cell_type": "code",
   "execution_count": 132,
   "metadata": {},
   "outputs": [
    {
     "data": {
      "text/plain": [
       "array([0.54593421, 0.18449011, 0.0643917 , 0.06274369, 0.04806746,\n",
       "       0.03616889, 0.01806132])"
      ]
     },
     "execution_count": 132,
     "metadata": {},
     "output_type": "execute_result"
    }
   ],
   "source": [
    "pcomp.explained_variance_ratio_"
   ]
  },
  {
   "cell_type": "markdown",
   "metadata": {},
   "source": [
    "1st principal component has 54% variance , 2nd one has 16% and so on until 8th component"
   ]
  },
  {
   "cell_type": "code",
   "execution_count": 133,
   "metadata": {},
   "outputs": [
    {
     "data": {
      "text/plain": [
       "array([0.54593421, 0.73042433, 0.79481603, 0.85755972, 0.90562718,\n",
       "       0.94179607, 0.95985738])"
      ]
     },
     "execution_count": 133,
     "metadata": {},
     "output_type": "execute_result"
    }
   ],
   "source": [
    "np.cumsum(pcomp.explained_variance_ratio_)"
   ]
  },
  {
   "cell_type": "markdown",
   "metadata": {},
   "source": [
    "1st and 2nd principal components covers 71 % variance,\n",
    "1st ,2nd,3rd and 4th principal components adds up to 80% variance "
   ]
  },
  {
   "cell_type": "code",
   "execution_count": 134,
   "metadata": {},
   "outputs": [],
   "source": [
    "Xtrain_pca=pcomp.transform(Xtrain_scaled)\n",
    "Xtest_pca=pcomp.transform(Xtest_scaled)"
   ]
  },
  {
   "cell_type": "markdown",
   "metadata": {},
   "source": [
    "Model is trained using Principal component transformed train and test set"
   ]
  },
  {
   "cell_type": "code",
   "execution_count": 135,
   "metadata": {},
   "outputs": [
    {
     "data": {
      "image/png": "[encoded data removed]",
      "text/plain": [
       "<Figure size 432x288 with 1 Axes>"
      ]
     },
     "metadata": {},
     "output_type": "display_data"
    }
   ],
   "source": [
    "plt.figure()\n",
    "plt.plot(np.cumsum(pcomp.explained_variance_ratio_))\n",
    "plt.xlabel('Number of Components')\n",
    "plt.ylabel('Variance (%)') #for each component\n",
    "plt.show()"
   ]
  },
  {
   "cell_type": "markdown",
   "metadata": {},
   "source": [
    "elbow plot also signifies that first principal component has 50 % variance captured and first two principal component amounts \n",
    "to 70% variance"
   ]
  },
  {
   "cell_type": "markdown",
   "metadata": {},
   "source": [
    "SVM"
   ]
  },
  {
   "cell_type": "code",
   "execution_count": 136,
   "metadata": {},
   "outputs": [],
   "source": [
    "from sklearn.svm import SVC\n",
    "from sklearn import metrics\n",
    "from sklearn.metrics import accuracy_score,confusion_matrix"
   ]
  },
  {
   "cell_type": "code",
   "execution_count": 137,
   "metadata": {},
   "outputs": [],
   "source": [
    "from sklearn.metrics import classification_report"
   ]
  },
  {
   "cell_type": "markdown",
   "metadata": {},
   "source": [
    "SVM with PCA"
   ]
  },
  {
   "cell_type": "code",
   "execution_count": 138,
   "metadata": {},
   "outputs": [
    {
     "data": {
      "text/plain": [
       "SVC(C=1.0, break_ties=False, cache_size=200, class_weight=None, coef0=0.0,\n",
       "    decision_function_shape='ovr', degree=3, gamma='scale', kernel='rbf',\n",
       "    max_iter=-1, probability=False, random_state=None, shrinking=True,\n",
       "    tol=0.001, verbose=False)"
      ]
     },
     "execution_count": 138,
     "metadata": {},
     "output_type": "execute_result"
    }
   ],
   "source": [
    "pcasvm = SVC()#default kernel used is RBF\n",
    "pcasvm.fit(Xtrain_pca,y_train)"
   ]
  },
  {
   "cell_type": "code",
   "execution_count": 139,
   "metadata": {},
   "outputs": [
    {
     "name": "stdout",
     "output_type": "stream",
     "text": [
      "train score:  0.9400630914826499\n"
     ]
    }
   ],
   "source": [
    "model_score=pcasvm.score(Xtrain_pca,y_train)\n",
    "print('train score: ',model_score)"
   ]
  },
  {
   "cell_type": "code",
   "execution_count": 140,
   "metadata": {},
   "outputs": [
    {
     "name": "stdout",
     "output_type": "stream",
     "text": [
      "test score  0.910377358490566\n"
     ]
    }
   ],
   "source": [
    "y_predict=pcasvm.predict(Xtest_pca)\n",
    "model_score1=pcasvm.score(Xtest_pca,y_test)\n",
    "print('test score ', model_score1)"
   ]
  },
  {
   "cell_type": "code",
   "execution_count": 141,
   "metadata": {},
   "outputs": [
    {
     "name": "stdout",
     "output_type": "stream",
     "text": [
      "accuracy_score 0.910377358490566\n"
     ]
    }
   ],
   "source": [
    "print('accuracy_score', accuracy_score(y_test,y_predict))"
   ]
  },
  {
   "cell_type": "code",
   "execution_count": 142,
   "metadata": {},
   "outputs": [
    {
     "name": "stdout",
     "output_type": "stream",
     "text": [
      "              precision    recall  f1-score   support\n",
      "\n",
      "           0       0.96      0.95      0.96        58\n",
      "           1       0.93      0.89      0.91       108\n",
      "           2       0.81      0.91      0.86        46\n",
      "\n",
      "    accuracy                           0.91       212\n",
      "   macro avg       0.90      0.92      0.91       212\n",
      "weighted avg       0.91      0.91      0.91       212\n",
      "\n"
     ]
    }
   ],
   "source": [
    "print(classification_report(y_test,y_predict))"
   ]
  },
  {
   "cell_type": "code",
   "execution_count": null,
   "metadata": {},
   "outputs": [],
   "source": []
  },
  {
   "cell_type": "markdown",
   "metadata": {},
   "source": [
    "SVM without PCA"
   ]
  },
  {
   "cell_type": "code",
   "execution_count": 143,
   "metadata": {},
   "outputs": [
    {
     "data": {
      "text/plain": [
       "SVC(C=1.0, break_ties=False, cache_size=200, class_weight=None, coef0=0.0,\n",
       "    decision_function_shape='ovr', degree=3, gamma='scale', kernel='rbf',\n",
       "    max_iter=-1, probability=False, random_state=None, shrinking=True,\n",
       "    tol=0.001, verbose=False)"
      ]
     },
     "execution_count": 143,
     "metadata": {},
     "output_type": "execute_result"
    }
   ],
   "source": [
    "svcmodel = SVC()\n",
    "svcmodel.fit(Xtrain_scaled, y_train)"
   ]
  },
  {
   "cell_type": "code",
   "execution_count": 144,
   "metadata": {},
   "outputs": [
    {
     "name": "stdout",
     "output_type": "stream",
     "text": [
      "train score: 0.9700315457413249\n"
     ]
    }
   ],
   "source": [
    "modelscore=svcmodel.score(Xtrain_scaled,y_train)\n",
    "print('train score:',modelscore)"
   ]
  },
  {
   "cell_type": "code",
   "execution_count": 145,
   "metadata": {},
   "outputs": [
    {
     "name": "stdout",
     "output_type": "stream",
     "text": [
      "test score 0.9528301886792453\n",
      "accuracy_score 0.9528301886792453\n"
     ]
    }
   ],
   "source": [
    "y_predict1=svcmodel.predict(Xtest_scaled)\n",
    "modelscore1=svcmodel.score(Xtest_scaled,y_test)\n",
    "print('test score',modelscore1)\n",
    "print('accuracy_score',accuracy_score(y_test,y_predict1))"
   ]
  },
  {
   "cell_type": "code",
   "execution_count": 151,
   "metadata": {},
   "outputs": [
    {
     "name": "stdout",
     "output_type": "stream",
     "text": [
      "              precision    recall  f1-score   support\n",
      "\n",
      "           0       0.98      0.98      0.98        58\n",
      "           1       0.97      0.94      0.96       108\n",
      "           2       0.88      0.93      0.91        46\n",
      "\n",
      "    accuracy                           0.95       212\n",
      "   macro avg       0.94      0.95      0.95       212\n",
      "weighted avg       0.95      0.95      0.95       212\n",
      "\n"
     ]
    }
   ],
   "source": [
    "print(classification_report(y_test,y_predict1))"
   ]
  },
  {
   "cell_type": "markdown",
   "metadata": {},
   "source": [
    "# Clustering Algorithm : Kmeans"
   ]
  },
  {
   "cell_type": "code",
   "execution_count": 146,
   "metadata": {},
   "outputs": [],
   "source": [
    "from sklearn.cluster import KMeans"
   ]
  },
  {
   "cell_type": "code",
   "execution_count": 147,
   "metadata": {},
   "outputs": [
    {
     "data": {
      "text/plain": [
       "Text(0.5, 1.0, 'Selecting k with the Elbow Method')"
      ]
     },
     "execution_count": 147,
     "metadata": {},
     "output_type": "execute_result"
    },
    {
     "data": {
      "image/png": "[encoded data removed]",
      "text/plain": [
       "<Figure size 432x288 with 1 Axes>"
      ]
     },
     "metadata": {},
     "output_type": "display_data"
    }
   ],
   "source": [
    "#Finding optimal no. of clusters\n",
    "from scipy.spatial.distance import cdist\n",
    "clusters=range(1,10)\n",
    "meanDistortions=[]\n",
    "\n",
    "for k in clusters:\n",
    "    model=KMeans(n_clusters=k)\n",
    "    model.fit(Xtrain_scaled)\n",
    "    prediction=model.predict(Xtrain_scaled)\n",
    "    meanDistortions.append(sum(np.min(cdist(Xtrain_scaled, model.cluster_centers_, 'euclidean'), axis=1)) /Xtrain_scaled.shape[0])\n",
    "\n",
    "\n",
    "plt.plot(clusters, meanDistortions, 'bx-')\n",
    "plt.xlabel('k')\n",
    "plt.ylabel('Average distortion')\n",
    "plt.title('Selecting k with the Elbow Method')"
   ]
  },
  {
   "cell_type": "code",
   "execution_count": 148,
   "metadata": {},
   "outputs": [],
   "source": [
    "final_model=KMeans(3)\n",
    "final_model.fit(Xtest_scaled)\n",
    "prediction=final_model.predict(Xtest_scaled)"
   ]
  },
  {
   "cell_type": "code",
   "execution_count": 149,
   "metadata": {
    "scrolled": false
   },
   "outputs": [
    {
     "name": "stdout",
     "output_type": "stream",
     "text": [
      "Groups Assigned : \n",
      "\n"
     ]
    },
    {
     "data": {
      "text/html": [
       "<div>\n",
       "<style scoped>\n",
       "    .dataframe tbody tr th:only-of-type {\n",
       "        vertical-align: middle;\n",
       "    }\n",
       "\n",
       "    .dataframe tbody tr th {\n",
       "        vertical-align: top;\n",
       "    }\n",
       "\n",
       "    .dataframe thead th {\n",
       "        text-align: right;\n",
       "    }\n",
       "</style>\n",
       "<table border=\"1\" class=\"dataframe\">\n",
       "  <thead>\n",
       "    <tr style=\"text-align: right;\">\n",
       "      <th></th>\n",
       "      <th>Compactness</th>\n",
       "      <th>Circularity</th>\n",
       "      <th>distance circularity</th>\n",
       "      <th>radius ratio</th>\n",
       "      <th>axis_aspect_ratio</th>\n",
       "      <th>maxlength_aspect_ratio</th>\n",
       "      <th>scatter ratio</th>\n",
       "      <th>elongation</th>\n",
       "      <th>axis_rectangularity</th>\n",
       "      <th>maxlength_rectangularity</th>\n",
       "      <th>scaledvariance</th>\n",
       "      <th>scaledvariance1</th>\n",
       "      <th>scaled_radiusofgyration</th>\n",
       "      <th>scaled_radiusofgyration1</th>\n",
       "      <th>skewness</th>\n",
       "      <th>skewness1</th>\n",
       "      <th>skewness_about2</th>\n",
       "      <th>hollowsratio</th>\n",
       "      <th>GROUP</th>\n",
       "    </tr>\n",
       "  </thead>\n",
       "  <tbody>\n",
       "    <tr>\n",
       "      <th>565</th>\n",
       "      <td>0.899091</td>\n",
       "      <td>0.515202</td>\n",
       "      <td>0.151187</td>\n",
       "      <td>0.719370</td>\n",
       "      <td>-0.174526</td>\n",
       "      <td>1.412170</td>\n",
       "      <td>0.141230</td>\n",
       "      <td>-0.324473</td>\n",
       "      <td>0.115405</td>\n",
       "      <td>0.347182</td>\n",
       "      <td>0.074120</td>\n",
       "      <td>0.077008</td>\n",
       "      <td>0.381849</td>\n",
       "      <td>-1.665841</td>\n",
       "      <td>-0.093214</td>\n",
       "      <td>0.975660</td>\n",
       "      <td>1.304728</td>\n",
       "      <td>1.943642</td>\n",
       "      <td>1</td>\n",
       "    </tr>\n",
       "    <tr>\n",
       "      <th>354</th>\n",
       "      <td>0.519143</td>\n",
       "      <td>0.835974</td>\n",
       "      <td>0.468530</td>\n",
       "      <td>0.751235</td>\n",
       "      <td>0.359121</td>\n",
       "      <td>0.436991</td>\n",
       "      <td>0.201112</td>\n",
       "      <td>-0.451859</td>\n",
       "      <td>0.115405</td>\n",
       "      <td>0.483736</td>\n",
       "      <td>0.170918</td>\n",
       "      <td>0.157614</td>\n",
       "      <td>0.688484</td>\n",
       "      <td>-1.165381</td>\n",
       "      <td>1.111751</td>\n",
       "      <td>-1.256425</td>\n",
       "      <td>0.660343</td>\n",
       "      <td>0.734884</td>\n",
       "      <td>0</td>\n",
       "    </tr>\n",
       "    <tr>\n",
       "      <th>827</th>\n",
       "      <td>0.645792</td>\n",
       "      <td>1.958675</td>\n",
       "      <td>1.103217</td>\n",
       "      <td>0.273258</td>\n",
       "      <td>-1.241821</td>\n",
       "      <td>2.387349</td>\n",
       "      <td>1.608333</td>\n",
       "      <td>-1.343560</td>\n",
       "      <td>1.644528</td>\n",
       "      <td>2.736878</td>\n",
       "      <td>1.074365</td>\n",
       "      <td>1.620045</td>\n",
       "      <td>1.179102</td>\n",
       "      <td>0.002361</td>\n",
       "      <td>-0.334207</td>\n",
       "      <td>-0.618687</td>\n",
       "      <td>-0.628428</td>\n",
       "      <td>0.331965</td>\n",
       "      <td>0</td>\n",
       "    </tr>\n",
       "    <tr>\n",
       "      <th>636</th>\n",
       "      <td>0.265844</td>\n",
       "      <td>-0.607499</td>\n",
       "      <td>-0.864311</td>\n",
       "      <td>-0.491504</td>\n",
       "      <td>-0.886056</td>\n",
       "      <td>-0.538188</td>\n",
       "      <td>-0.876759</td>\n",
       "      <td>0.821999</td>\n",
       "      <td>-1.031436</td>\n",
       "      <td>-0.472142</td>\n",
       "      <td>-0.893858</td>\n",
       "      <td>-0.849966</td>\n",
       "      <td>-0.170096</td>\n",
       "      <td>-1.832662</td>\n",
       "      <td>1.352744</td>\n",
       "      <td>-0.512397</td>\n",
       "      <td>2.110210</td>\n",
       "      <td>1.809335</td>\n",
       "      <td>1</td>\n",
       "    </tr>\n",
       "    <tr>\n",
       "      <th>418</th>\n",
       "      <td>-0.874000</td>\n",
       "      <td>-0.286728</td>\n",
       "      <td>-0.800843</td>\n",
       "      <td>0.018337</td>\n",
       "      <td>1.960063</td>\n",
       "      <td>-0.538188</td>\n",
       "      <td>-0.547409</td>\n",
       "      <td>0.439842</td>\n",
       "      <td>-0.649156</td>\n",
       "      <td>-0.199034</td>\n",
       "      <td>-0.409869</td>\n",
       "      <td>-0.596631</td>\n",
       "      <td>-0.108769</td>\n",
       "      <td>0.669641</td>\n",
       "      <td>0.147779</td>\n",
       "      <td>-0.087238</td>\n",
       "      <td>-0.789524</td>\n",
       "      <td>-1.145406</td>\n",
       "      <td>2</td>\n",
       "    </tr>\n",
       "    <tr>\n",
       "      <th>567</th>\n",
       "      <td>-0.367402</td>\n",
       "      <td>-0.767885</td>\n",
       "      <td>0.024250</td>\n",
       "      <td>-0.077258</td>\n",
       "      <td>-0.174526</td>\n",
       "      <td>-0.050599</td>\n",
       "      <td>-0.307882</td>\n",
       "      <td>0.057684</td>\n",
       "      <td>-0.266875</td>\n",
       "      <td>-1.018358</td>\n",
       "      <td>-0.022677</td>\n",
       "      <td>-0.354812</td>\n",
       "      <td>-0.599386</td>\n",
       "      <td>0.002361</td>\n",
       "      <td>-0.093214</td>\n",
       "      <td>-0.618687</td>\n",
       "      <td>-0.467331</td>\n",
       "      <td>-0.608180</td>\n",
       "      <td>2</td>\n",
       "    </tr>\n",
       "    <tr>\n",
       "      <th>43</th>\n",
       "      <td>-0.114104</td>\n",
       "      <td>-1.249043</td>\n",
       "      <td>-0.420031</td>\n",
       "      <td>0.464449</td>\n",
       "      <td>0.359121</td>\n",
       "      <td>-0.050599</td>\n",
       "      <td>-0.188119</td>\n",
       "      <td>-0.069702</td>\n",
       "      <td>-0.266875</td>\n",
       "      <td>-0.950081</td>\n",
       "      <td>0.041854</td>\n",
       "      <td>-0.228145</td>\n",
       "      <td>-1.090004</td>\n",
       "      <td>-0.831740</td>\n",
       "      <td>-0.334207</td>\n",
       "      <td>-0.618687</td>\n",
       "      <td>0.499247</td>\n",
       "      <td>0.197658</td>\n",
       "      <td>1</td>\n",
       "    </tr>\n",
       "    <tr>\n",
       "      <th>131</th>\n",
       "      <td>-1.000649</td>\n",
       "      <td>-1.409429</td>\n",
       "      <td>-0.356562</td>\n",
       "      <td>-0.109123</td>\n",
       "      <td>-0.174526</td>\n",
       "      <td>-0.538188</td>\n",
       "      <td>-0.607291</td>\n",
       "      <td>0.567227</td>\n",
       "      <td>-0.649156</td>\n",
       "      <td>-1.359743</td>\n",
       "      <td>-0.506667</td>\n",
       "      <td>-0.654207</td>\n",
       "      <td>-1.335313</td>\n",
       "      <td>-0.998561</td>\n",
       "      <td>-1.298180</td>\n",
       "      <td>2.038558</td>\n",
       "      <td>1.143632</td>\n",
       "      <td>1.003497</td>\n",
       "      <td>1</td>\n",
       "    </tr>\n",
       "    <tr>\n",
       "      <th>743</th>\n",
       "      <td>0.519143</td>\n",
       "      <td>0.515202</td>\n",
       "      <td>1.166686</td>\n",
       "      <td>1.101751</td>\n",
       "      <td>0.714886</td>\n",
       "      <td>0.436991</td>\n",
       "      <td>0.799929</td>\n",
       "      <td>-0.961402</td>\n",
       "      <td>0.879967</td>\n",
       "      <td>0.278905</td>\n",
       "      <td>0.848503</td>\n",
       "      <td>0.802466</td>\n",
       "      <td>-0.016778</td>\n",
       "      <td>-0.664920</td>\n",
       "      <td>-0.816194</td>\n",
       "      <td>-0.831266</td>\n",
       "      <td>0.015958</td>\n",
       "      <td>0.197658</td>\n",
       "      <td>0</td>\n",
       "    </tr>\n",
       "    <tr>\n",
       "      <th>218</th>\n",
       "      <td>-1.380597</td>\n",
       "      <td>-0.126342</td>\n",
       "      <td>-0.927780</td>\n",
       "      <td>-0.778290</td>\n",
       "      <td>0.003356</td>\n",
       "      <td>-0.050599</td>\n",
       "      <td>-0.697114</td>\n",
       "      <td>0.567227</td>\n",
       "      <td>-0.649156</td>\n",
       "      <td>-0.335588</td>\n",
       "      <td>-0.635731</td>\n",
       "      <td>-0.688753</td>\n",
       "      <td>0.167203</td>\n",
       "      <td>0.336001</td>\n",
       "      <td>-1.057187</td>\n",
       "      <td>-1.256425</td>\n",
       "      <td>-0.628428</td>\n",
       "      <td>-0.608180</td>\n",
       "      <td>2</td>\n",
       "    </tr>\n",
       "  </tbody>\n",
       "</table>\n",
       "</div>"
      ],
      "text/plain": [
       "     Compactness  Circularity  distance circularity  radius ratio  \\\n",
       "565     0.899091     0.515202              0.151187      0.719370   \n",
       "354     0.519143     0.835974              0.468530      0.751235   \n",
       "827     0.645792     1.958675              1.103217      0.273258   \n",
       "636     0.265844    -0.607499             -0.864311     -0.491504   \n",
       "418    -0.874000    -0.286728             -0.800843      0.018337   \n",
       "567    -0.367402    -0.767885              0.024250     -0.077258   \n",
       "43     -0.114104    -1.249043             -0.420031      0.464449   \n",
       "131    -1.000649    -1.409429             -0.356562     -0.109123   \n",
       "743     0.519143     0.515202              1.166686      1.101751   \n",
       "218    -1.380597    -0.126342             -0.927780     -0.778290   \n",
       "\n",
       "     axis_aspect_ratio  maxlength_aspect_ratio  scatter ratio  elongation  \\\n",
       "565          -0.174526                1.412170       0.141230   -0.324473   \n",
       "354           0.359121                0.436991       0.201112   -0.451859   \n",
       "827          -1.241821                2.387349       1.608333   -1.343560   \n",
       "636          -0.886056               -0.538188      -0.876759    0.821999   \n",
       "418           1.960063               -0.538188      -0.547409    0.439842   \n",
       "567          -0.174526               -0.050599      -0.307882    0.057684   \n",
       "43            0.359121               -0.050599      -0.188119   -0.069702   \n",
       "131          -0.174526               -0.538188      -0.607291    0.567227   \n",
       "743           0.714886                0.436991       0.799929   -0.961402   \n",
       "218           0.003356               -0.050599      -0.697114    0.567227   \n",
       "\n",
       "     axis_rectangularity  maxlength_rectangularity  scaledvariance  \\\n",
       "565             0.115405                  0.347182        0.074120   \n",
       "354             0.115405                  0.483736        0.170918   \n",
       "827             1.644528                  2.736878        1.074365   \n",
       "636            -1.031436                 -0.472142       -0.893858   \n",
       "418            -0.649156                 -0.199034       -0.409869   \n",
       "567            -0.266875                 -1.018358       -0.022677   \n",
       "43             -0.266875                 -0.950081        0.041854   \n",
       "131            -0.649156                 -1.359743       -0.506667   \n",
       "743             0.879967                  0.278905        0.848503   \n",
       "218            -0.649156                 -0.335588       -0.635731   \n",
       "\n",
       "     scaledvariance1  scaled_radiusofgyration  scaled_radiusofgyration1  \\\n",
       "565         0.077008                 0.381849                 -1.665841   \n",
       "354         0.157614                 0.688484                 -1.165381   \n",
       "827         1.620045                 1.179102                  0.002361   \n",
       "636        -0.849966                -0.170096                 -1.832662   \n",
       "418        -0.596631                -0.108769                  0.669641   \n",
       "567        -0.354812                -0.599386                  0.002361   \n",
       "43         -0.228145                -1.090004                 -0.831740   \n",
       "131        -0.654207                -1.335313                 -0.998561   \n",
       "743         0.802466                -0.016778                 -0.664920   \n",
       "218        -0.688753                 0.167203                  0.336001   \n",
       "\n",
       "     skewness  skewness1  skewness_about2  hollowsratio  GROUP  \n",
       "565 -0.093214   0.975660         1.304728      1.943642      1  \n",
       "354  1.111751  -1.256425         0.660343      0.734884      0  \n",
       "827 -0.334207  -0.618687        -0.628428      0.331965      0  \n",
       "636  1.352744  -0.512397         2.110210      1.809335      1  \n",
       "418  0.147779  -0.087238        -0.789524     -1.145406      2  \n",
       "567 -0.093214  -0.618687        -0.467331     -0.608180      2  \n",
       "43  -0.334207  -0.618687         0.499247      0.197658      1  \n",
       "131 -1.298180   2.038558         1.143632      1.003497      1  \n",
       "743 -0.816194  -0.831266         0.015958      0.197658      0  \n",
       "218 -1.057187  -1.256425        -0.628428     -0.608180      2  "
      ]
     },
     "execution_count": 149,
     "metadata": {},
     "output_type": "execute_result"
    }
   ],
   "source": [
    "#Append the prediction \n",
    "\n",
    "Xtest_scaled[\"GROUP\"] = prediction\n",
    "print(\"Groups Assigned : \\n\")\n",
    "Xtest_scaled.head(10)"
   ]
  },
  {
   "cell_type": "code",
   "execution_count": 150,
   "metadata": {},
   "outputs": [
    {
     "data": {
      "text/plain": [
       "<matplotlib.axes._subplots.AxesSubplot at 0x247163f73c8>"
      ]
     },
     "execution_count": 150,
     "metadata": {},
     "output_type": "execute_result"
    },
    {
     "data": {
      "image/png": "[encoded data removed]",
      "text/plain": [
       "<Figure size 432x288 with 1 Axes>"
      ]
     },
     "metadata": {},
     "output_type": "display_data"
    }
   ],
   "source": [
    "sns.countplot(x='GROUP',data=Xtest_scaled)"
   ]
  },
  {
   "cell_type": "markdown",
   "metadata": {},
   "source": [
    "# Clustering Algorithm: Hierarchial clustering."
   ]
  },
  {
   "cell_type": "code",
   "execution_count": 152,
   "metadata": {},
   "outputs": [],
   "source": [
    "from sklearn.cluster import AgglomerativeClustering"
   ]
  },
  {
   "cell_type": "code",
   "execution_count": 153,
   "metadata": {},
   "outputs": [],
   "source": [
    "Hmodel = AgglomerativeClustering(n_clusters=3, affinity='euclidean',  linkage='average')"
   ]
  },
  {
   "cell_type": "code",
   "execution_count": 154,
   "metadata": {},
   "outputs": [
    {
     "data": {
      "text/plain": [
       "AgglomerativeClustering(affinity='euclidean', compute_full_tree='auto',\n",
       "                        connectivity=None, distance_threshold=None,\n",
       "                        linkage='average', memory=None, n_clusters=3)"
      ]
     },
     "execution_count": 154,
     "metadata": {},
     "output_type": "execute_result"
    }
   ],
   "source": [
    "Hmodel.fit(Xtest_scaled)"
   ]
  },
  {
   "cell_type": "code",
   "execution_count": 156,
   "metadata": {},
   "outputs": [],
   "source": [
    "Xtest_scaled['labels'] = Hmodel.labels_"
   ]
  },
  {
   "cell_type": "code",
   "execution_count": 157,
   "metadata": {},
   "outputs": [
    {
     "data": {
      "text/html": [
       "<div>\n",
       "<style scoped>\n",
       "    .dataframe tbody tr th:only-of-type {\n",
       "        vertical-align: middle;\n",
       "    }\n",
       "\n",
       "    .dataframe tbody tr th {\n",
       "        vertical-align: top;\n",
       "    }\n",
       "\n",
       "    .dataframe thead th {\n",
       "        text-align: right;\n",
       "    }\n",
       "</style>\n",
       "<table border=\"1\" class=\"dataframe\">\n",
       "  <thead>\n",
       "    <tr style=\"text-align: right;\">\n",
       "      <th></th>\n",
       "      <th>Compactness</th>\n",
       "      <th>Circularity</th>\n",
       "      <th>distance circularity</th>\n",
       "      <th>radius ratio</th>\n",
       "      <th>axis_aspect_ratio</th>\n",
       "      <th>maxlength_aspect_ratio</th>\n",
       "      <th>scatter ratio</th>\n",
       "      <th>elongation</th>\n",
       "      <th>axis_rectangularity</th>\n",
       "      <th>maxlength_rectangularity</th>\n",
       "      <th>scaledvariance</th>\n",
       "      <th>scaledvariance1</th>\n",
       "      <th>scaled_radiusofgyration</th>\n",
       "      <th>scaled_radiusofgyration1</th>\n",
       "      <th>skewness</th>\n",
       "      <th>skewness1</th>\n",
       "      <th>skewness_about2</th>\n",
       "      <th>hollowsratio</th>\n",
       "      <th>GROUP</th>\n",
       "      <th>labels</th>\n",
       "    </tr>\n",
       "  </thead>\n",
       "  <tbody>\n",
       "    <tr>\n",
       "      <th>565</th>\n",
       "      <td>0.899091</td>\n",
       "      <td>0.515202</td>\n",
       "      <td>0.151187</td>\n",
       "      <td>0.719370</td>\n",
       "      <td>-0.174526</td>\n",
       "      <td>1.412170</td>\n",
       "      <td>0.141230</td>\n",
       "      <td>-0.324473</td>\n",
       "      <td>0.115405</td>\n",
       "      <td>0.347182</td>\n",
       "      <td>0.074120</td>\n",
       "      <td>0.077008</td>\n",
       "      <td>0.381849</td>\n",
       "      <td>-1.665841</td>\n",
       "      <td>-0.093214</td>\n",
       "      <td>0.975660</td>\n",
       "      <td>1.304728</td>\n",
       "      <td>1.943642</td>\n",
       "      <td>1</td>\n",
       "      <td>2</td>\n",
       "    </tr>\n",
       "    <tr>\n",
       "      <th>354</th>\n",
       "      <td>0.519143</td>\n",
       "      <td>0.835974</td>\n",
       "      <td>0.468530</td>\n",
       "      <td>0.751235</td>\n",
       "      <td>0.359121</td>\n",
       "      <td>0.436991</td>\n",
       "      <td>0.201112</td>\n",
       "      <td>-0.451859</td>\n",
       "      <td>0.115405</td>\n",
       "      <td>0.483736</td>\n",
       "      <td>0.170918</td>\n",
       "      <td>0.157614</td>\n",
       "      <td>0.688484</td>\n",
       "      <td>-1.165381</td>\n",
       "      <td>1.111751</td>\n",
       "      <td>-1.256425</td>\n",
       "      <td>0.660343</td>\n",
       "      <td>0.734884</td>\n",
       "      <td>0</td>\n",
       "      <td>2</td>\n",
       "    </tr>\n",
       "    <tr>\n",
       "      <th>827</th>\n",
       "      <td>0.645792</td>\n",
       "      <td>1.958675</td>\n",
       "      <td>1.103217</td>\n",
       "      <td>0.273258</td>\n",
       "      <td>-1.241821</td>\n",
       "      <td>2.387349</td>\n",
       "      <td>1.608333</td>\n",
       "      <td>-1.343560</td>\n",
       "      <td>1.644528</td>\n",
       "      <td>2.736878</td>\n",
       "      <td>1.074365</td>\n",
       "      <td>1.620045</td>\n",
       "      <td>1.179102</td>\n",
       "      <td>0.002361</td>\n",
       "      <td>-0.334207</td>\n",
       "      <td>-0.618687</td>\n",
       "      <td>-0.628428</td>\n",
       "      <td>0.331965</td>\n",
       "      <td>0</td>\n",
       "      <td>1</td>\n",
       "    </tr>\n",
       "    <tr>\n",
       "      <th>636</th>\n",
       "      <td>0.265844</td>\n",
       "      <td>-0.607499</td>\n",
       "      <td>-0.864311</td>\n",
       "      <td>-0.491504</td>\n",
       "      <td>-0.886056</td>\n",
       "      <td>-0.538188</td>\n",
       "      <td>-0.876759</td>\n",
       "      <td>0.821999</td>\n",
       "      <td>-1.031436</td>\n",
       "      <td>-0.472142</td>\n",
       "      <td>-0.893858</td>\n",
       "      <td>-0.849966</td>\n",
       "      <td>-0.170096</td>\n",
       "      <td>-1.832662</td>\n",
       "      <td>1.352744</td>\n",
       "      <td>-0.512397</td>\n",
       "      <td>2.110210</td>\n",
       "      <td>1.809335</td>\n",
       "      <td>1</td>\n",
       "      <td>2</td>\n",
       "    </tr>\n",
       "    <tr>\n",
       "      <th>418</th>\n",
       "      <td>-0.874000</td>\n",
       "      <td>-0.286728</td>\n",
       "      <td>-0.800843</td>\n",
       "      <td>0.018337</td>\n",
       "      <td>1.960063</td>\n",
       "      <td>-0.538188</td>\n",
       "      <td>-0.547409</td>\n",
       "      <td>0.439842</td>\n",
       "      <td>-0.649156</td>\n",
       "      <td>-0.199034</td>\n",
       "      <td>-0.409869</td>\n",
       "      <td>-0.596631</td>\n",
       "      <td>-0.108769</td>\n",
       "      <td>0.669641</td>\n",
       "      <td>0.147779</td>\n",
       "      <td>-0.087238</td>\n",
       "      <td>-0.789524</td>\n",
       "      <td>-1.145406</td>\n",
       "      <td>2</td>\n",
       "      <td>0</td>\n",
       "    </tr>\n",
       "    <tr>\n",
       "      <th>567</th>\n",
       "      <td>-0.367402</td>\n",
       "      <td>-0.767885</td>\n",
       "      <td>0.024250</td>\n",
       "      <td>-0.077258</td>\n",
       "      <td>-0.174526</td>\n",
       "      <td>-0.050599</td>\n",
       "      <td>-0.307882</td>\n",
       "      <td>0.057684</td>\n",
       "      <td>-0.266875</td>\n",
       "      <td>-1.018358</td>\n",
       "      <td>-0.022677</td>\n",
       "      <td>-0.354812</td>\n",
       "      <td>-0.599386</td>\n",
       "      <td>0.002361</td>\n",
       "      <td>-0.093214</td>\n",
       "      <td>-0.618687</td>\n",
       "      <td>-0.467331</td>\n",
       "      <td>-0.608180</td>\n",
       "      <td>2</td>\n",
       "      <td>2</td>\n",
       "    </tr>\n",
       "    <tr>\n",
       "      <th>43</th>\n",
       "      <td>-0.114104</td>\n",
       "      <td>-1.249043</td>\n",
       "      <td>-0.420031</td>\n",
       "      <td>0.464449</td>\n",
       "      <td>0.359121</td>\n",
       "      <td>-0.050599</td>\n",
       "      <td>-0.188119</td>\n",
       "      <td>-0.069702</td>\n",
       "      <td>-0.266875</td>\n",
       "      <td>-0.950081</td>\n",
       "      <td>0.041854</td>\n",
       "      <td>-0.228145</td>\n",
       "      <td>-1.090004</td>\n",
       "      <td>-0.831740</td>\n",
       "      <td>-0.334207</td>\n",
       "      <td>-0.618687</td>\n",
       "      <td>0.499247</td>\n",
       "      <td>0.197658</td>\n",
       "      <td>1</td>\n",
       "      <td>2</td>\n",
       "    </tr>\n",
       "    <tr>\n",
       "      <th>131</th>\n",
       "      <td>-1.000649</td>\n",
       "      <td>-1.409429</td>\n",
       "      <td>-0.356562</td>\n",
       "      <td>-0.109123</td>\n",
       "      <td>-0.174526</td>\n",
       "      <td>-0.538188</td>\n",
       "      <td>-0.607291</td>\n",
       "      <td>0.567227</td>\n",
       "      <td>-0.649156</td>\n",
       "      <td>-1.359743</td>\n",
       "      <td>-0.506667</td>\n",
       "      <td>-0.654207</td>\n",
       "      <td>-1.335313</td>\n",
       "      <td>-0.998561</td>\n",
       "      <td>-1.298180</td>\n",
       "      <td>2.038558</td>\n",
       "      <td>1.143632</td>\n",
       "      <td>1.003497</td>\n",
       "      <td>1</td>\n",
       "      <td>2</td>\n",
       "    </tr>\n",
       "    <tr>\n",
       "      <th>743</th>\n",
       "      <td>0.519143</td>\n",
       "      <td>0.515202</td>\n",
       "      <td>1.166686</td>\n",
       "      <td>1.101751</td>\n",
       "      <td>0.714886</td>\n",
       "      <td>0.436991</td>\n",
       "      <td>0.799929</td>\n",
       "      <td>-0.961402</td>\n",
       "      <td>0.879967</td>\n",
       "      <td>0.278905</td>\n",
       "      <td>0.848503</td>\n",
       "      <td>0.802466</td>\n",
       "      <td>-0.016778</td>\n",
       "      <td>-0.664920</td>\n",
       "      <td>-0.816194</td>\n",
       "      <td>-0.831266</td>\n",
       "      <td>0.015958</td>\n",
       "      <td>0.197658</td>\n",
       "      <td>0</td>\n",
       "      <td>1</td>\n",
       "    </tr>\n",
       "    <tr>\n",
       "      <th>218</th>\n",
       "      <td>-1.380597</td>\n",
       "      <td>-0.126342</td>\n",
       "      <td>-0.927780</td>\n",
       "      <td>-0.778290</td>\n",
       "      <td>0.003356</td>\n",
       "      <td>-0.050599</td>\n",
       "      <td>-0.697114</td>\n",
       "      <td>0.567227</td>\n",
       "      <td>-0.649156</td>\n",
       "      <td>-0.335588</td>\n",
       "      <td>-0.635731</td>\n",
       "      <td>-0.688753</td>\n",
       "      <td>0.167203</td>\n",
       "      <td>0.336001</td>\n",
       "      <td>-1.057187</td>\n",
       "      <td>-1.256425</td>\n",
       "      <td>-0.628428</td>\n",
       "      <td>-0.608180</td>\n",
       "      <td>2</td>\n",
       "      <td>0</td>\n",
       "    </tr>\n",
       "  </tbody>\n",
       "</table>\n",
       "</div>"
      ],
      "text/plain": [
       "     Compactness  Circularity  distance circularity  radius ratio  \\\n",
       "565     0.899091     0.515202              0.151187      0.719370   \n",
       "354     0.519143     0.835974              0.468530      0.751235   \n",
       "827     0.645792     1.958675              1.103217      0.273258   \n",
       "636     0.265844    -0.607499             -0.864311     -0.491504   \n",
       "418    -0.874000    -0.286728             -0.800843      0.018337   \n",
       "567    -0.367402    -0.767885              0.024250     -0.077258   \n",
       "43     -0.114104    -1.249043             -0.420031      0.464449   \n",
       "131    -1.000649    -1.409429             -0.356562     -0.109123   \n",
       "743     0.519143     0.515202              1.166686      1.101751   \n",
       "218    -1.380597    -0.126342             -0.927780     -0.778290   \n",
       "\n",
       "     axis_aspect_ratio  maxlength_aspect_ratio  scatter ratio  elongation  \\\n",
       "565          -0.174526                1.412170       0.141230   -0.324473   \n",
       "354           0.359121                0.436991       0.201112   -0.451859   \n",
       "827          -1.241821                2.387349       1.608333   -1.343560   \n",
       "636          -0.886056               -0.538188      -0.876759    0.821999   \n",
       "418           1.960063               -0.538188      -0.547409    0.439842   \n",
       "567          -0.174526               -0.050599      -0.307882    0.057684   \n",
       "43            0.359121               -0.050599      -0.188119   -0.069702   \n",
       "131          -0.174526               -0.538188      -0.607291    0.567227   \n",
       "743           0.714886                0.436991       0.799929   -0.961402   \n",
       "218           0.003356               -0.050599      -0.697114    0.567227   \n",
       "\n",
       "     axis_rectangularity  maxlength_rectangularity  scaledvariance  \\\n",
       "565             0.115405                  0.347182        0.074120   \n",
       "354             0.115405                  0.483736        0.170918   \n",
       "827             1.644528                  2.736878        1.074365   \n",
       "636            -1.031436                 -0.472142       -0.893858   \n",
       "418            -0.649156                 -0.199034       -0.409869   \n",
       "567            -0.266875                 -1.018358       -0.022677   \n",
       "43             -0.266875                 -0.950081        0.041854   \n",
       "131            -0.649156                 -1.359743       -0.506667   \n",
       "743             0.879967                  0.278905        0.848503   \n",
       "218            -0.649156                 -0.335588       -0.635731   \n",
       "\n",
       "     scaledvariance1  scaled_radiusofgyration  scaled_radiusofgyration1  \\\n",
       "565         0.077008                 0.381849                 -1.665841   \n",
       "354         0.157614                 0.688484                 -1.165381   \n",
       "827         1.620045                 1.179102                  0.002361   \n",
       "636        -0.849966                -0.170096                 -1.832662   \n",
       "418        -0.596631                -0.108769                  0.669641   \n",
       "567        -0.354812                -0.599386                  0.002361   \n",
       "43         -0.228145                -1.090004                 -0.831740   \n",
       "131        -0.654207                -1.335313                 -0.998561   \n",
       "743         0.802466                -0.016778                 -0.664920   \n",
       "218        -0.688753                 0.167203                  0.336001   \n",
       "\n",
       "     skewness  skewness1  skewness_about2  hollowsratio  GROUP  labels  \n",
       "565 -0.093214   0.975660         1.304728      1.943642      1       2  \n",
       "354  1.111751  -1.256425         0.660343      0.734884      0       2  \n",
       "827 -0.334207  -0.618687        -0.628428      0.331965      0       1  \n",
       "636  1.352744  -0.512397         2.110210      1.809335      1       2  \n",
       "418  0.147779  -0.087238        -0.789524     -1.145406      2       0  \n",
       "567 -0.093214  -0.618687        -0.467331     -0.608180      2       2  \n",
       "43  -0.334207  -0.618687         0.499247      0.197658      1       2  \n",
       "131 -1.298180   2.038558         1.143632      1.003497      1       2  \n",
       "743 -0.816194  -0.831266         0.015958      0.197658      0       1  \n",
       "218 -1.057187  -1.256425        -0.628428     -0.608180      2       0  "
      ]
     },
     "execution_count": 157,
     "metadata": {},
     "output_type": "execute_result"
    }
   ],
   "source": [
    "Xtest_scaled.head(10)"
   ]
  },
  {
   "cell_type": "code",
   "execution_count": 158,
   "metadata": {},
   "outputs": [],
   "source": [
    "from scipy.cluster.hierarchy import cophenet, dendrogram, linkage"
   ]
  },
  {
   "cell_type": "code",
   "execution_count": 159,
   "metadata": {},
   "outputs": [],
   "source": [
    "from scipy.spatial.distance import pdist"
   ]
  },
  {
   "cell_type": "code",
   "execution_count": 160,
   "metadata": {},
   "outputs": [],
   "source": [
    "Z = linkage(Xtest_scaled, metric='euclidean', method='average')\n",
    "c, coph_dists = cophenet(Z , pdist(Xtest_scaled))"
   ]
  },
  {
   "cell_type": "code",
   "execution_count": 164,
   "metadata": {},
   "outputs": [
    {
     "data": {
      "text/plain": [
       "0.7294653381378818"
      ]
     },
     "execution_count": 164,
     "metadata": {},
     "output_type": "execute_result"
    }
   ],
   "source": [
    "c # cophenet index is a measure of the correlation between the distance of points in feature space and distance on dendrogram\n",
    "# closer it is to 1, the better is the clustering"
   ]
  },
  {
   "cell_type": "code",
   "execution_count": 163,
   "metadata": {},
   "outputs": [
    {
     "data": {
      "image/png": "[encoded data removed]",
      "text/plain": [
       "<Figure size 1440x360 with 1 Axes>"
      ]
     },
     "metadata": {},
     "output_type": "display_data"
    }
   ],
   "source": [
    "plt.figure(figsize=(20, 5))\n",
    "plt.title('Agglomerative Hierarchical Clustering Dendogram')\n",
    "plt.xlabel(' index')\n",
    "plt.ylabel('Distance')\n",
    "dendrogram(Z, leaf_rotation=90.,color_threshold = 40, leaf_font_size=8. )\n",
    "plt.tight_layout()"
   ]
  },
  {
   "cell_type": "markdown",
   "metadata": {},
   "source": [
    "INFERENCE:\n",
    "    \n",
    "    ->Accuracy score of SVM model by using PCA is 91% while accuracy score without using PCA is 95%\n",
    "    ->Hence we can achieve more than 90% accuracy by reducing the dimensions by Using PCA compared to using all the \n",
    "    dimensions in the dataset without using PCA\n",
    "    -> Recall of 90% is possible by using PCA which reduces the dimensionality of the data hence conserves more time in running\n",
    "    large datasets\n",
    "    -> difference between train and test is very less hence its not an overfit model.\n",
    "    -> by using K means unsupervised algorithm, able to group the attributes into clusters with similar data\n",
    "    "
   ]
  },
  {
   "cell_type": "code",
   "execution_count": null,
   "metadata": {},
   "outputs": [],
   "source": []
  },
  {
   "cell_type": "code",
   "execution_count": null,
   "metadata": {},
   "outputs": [],
   "source": []
  }
 ],
 "metadata": {
  "kernelspec": {
   "display_name": "Python 3",
   "language": "python",
   "name": "python3"
  },
  "language_info": {
   "codemirror_mode": {
    "name": "ipython",
    "version": 3
   },
   "file_extension": ".py",
   "mimetype": "text/x-python",
   "name": "python",
   "nbconvert_exporter": "python",
   "pygments_lexer": "ipython3",
   "version": "3.7.6"
  }
 },
 "nbformat": 4,
 "nbformat_minor": 2
}
